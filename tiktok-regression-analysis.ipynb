{
 "cells": [
  {
   "cell_type": "code",
   "execution_count": 1,
   "id": "62cea747",
   "metadata": {
    "_cell_guid": "b1076dfc-b9ad-4769-8c92-a6c4dae69d19",
    "_uuid": "8f2839f25d086af736a60e9eeb907d3b93b6e0e5",
    "execution": {
     "iopub.execute_input": "2023-09-03T15:27:51.895618Z",
     "iopub.status.busy": "2023-09-03T15:27:51.895247Z",
     "iopub.status.idle": "2023-09-03T15:27:51.913293Z",
     "shell.execute_reply": "2023-09-03T15:27:51.912079Z"
    },
    "papermill": {
     "duration": 0.050981,
     "end_time": "2023-09-03T15:27:51.915935",
     "exception": false,
     "start_time": "2023-09-03T15:27:51.864954",
     "status": "completed"
    },
    "tags": []
   },
   "outputs": [
    {
     "name": "stdout",
     "output_type": "stream",
     "text": [
      "/kaggle/input/tiktok-dataset/tiktok_dataset (1).csv\n"
     ]
    }
   ],
   "source": [
    "# This Python 3 environment comes with many helpful analytics libraries installed\n",
    "# It is defined by the kaggle/python Docker image: https://github.com/kaggle/docker-python\n",
    "# For example, here's several helpful packages to load\n",
    "\n",
    "import numpy as np # linear algebra\n",
    "import pandas as pd # data processing, CSV file I/O (e.g. pd.read_csv)\n",
    "\n",
    "# Input data files are available in the read-only \"../input/\" directory\n",
    "# For example, running this (by clicking run or pressing Shift+Enter) will list all files under the input directory\n",
    "\n",
    "import os\n",
    "for dirname, _, filenames in os.walk('/kaggle/input'):\n",
    "    for filename in filenames:\n",
    "        print(os.path.join(dirname, filename))\n",
    "\n",
    "# You can write up to 20GB to the current directory (/kaggle/working/) that gets preserved as output when you create a version using \"Save & Run All\" \n",
    "# You can also write temporary files to /kaggle/temp/, but they won't be saved outside of the current session"
   ]
  },
  {
   "cell_type": "markdown",
   "id": "413eabbe",
   "metadata": {
    "papermill": {
     "duration": 0.027516,
     "end_time": "2023-09-03T15:27:51.972150",
     "exception": false,
     "start_time": "2023-09-03T15:27:51.944634",
     "status": "completed"
    },
    "tags": []
   },
   "source": [
    "**Importing data**"
   ]
  },
  {
   "cell_type": "code",
   "execution_count": 2,
   "id": "71e16e4c",
   "metadata": {
    "execution": {
     "iopub.execute_input": "2023-09-03T15:27:52.030981Z",
     "iopub.status.busy": "2023-09-03T15:27:52.030337Z",
     "iopub.status.idle": "2023-09-03T15:27:53.939687Z",
     "shell.execute_reply": "2023-09-03T15:27:53.938483Z"
    },
    "papermill": {
     "duration": 1.941994,
     "end_time": "2023-09-03T15:27:53.942513",
     "exception": false,
     "start_time": "2023-09-03T15:27:52.000519",
     "status": "completed"
    },
    "tags": []
   },
   "outputs": [
    {
     "name": "stderr",
     "output_type": "stream",
     "text": [
      "/opt/conda/lib/python3.10/site-packages/scipy/__init__.py:146: UserWarning: A NumPy version >=1.16.5 and <1.23.0 is required for this version of SciPy (detected version 1.23.5\n",
      "  warnings.warn(f\"A NumPy version >={np_minversion} and <{np_maxversion}\"\n"
     ]
    }
   ],
   "source": [
    "#pacakges for data manipulation\n",
    "import pandas as pd\n",
    "import numpy as np\n",
    "\n",
    "\n",
    "#pacakges for data visualization\n",
    "import matplotlib.pyplot as plt\n",
    "import seaborn as sns\n",
    "\n",
    "#data preprocessing\n",
    "from sklearn.preprocessing import OneHotEncoder\n",
    "from sklearn.utils import resample\n",
    "\n",
    "#data modelling\n",
    "from sklearn.model_selection import train_test_split , GridSearchCV\n",
    "from sklearn.linear_model import LogisticRegression\n",
    "from sklearn.metrics import ( confusion_matrix , ConfusionMatrixDisplay,\\\n",
    "                             classification_report)\n",
    "\n",
    "\n"
   ]
  },
  {
   "cell_type": "code",
   "execution_count": 3,
   "id": "0a1c3676",
   "metadata": {
    "execution": {
     "iopub.execute_input": "2023-09-03T15:27:54.000311Z",
     "iopub.status.busy": "2023-09-03T15:27:53.999899Z",
     "iopub.status.idle": "2023-09-03T15:27:54.129254Z",
     "shell.execute_reply": "2023-09-03T15:27:54.128301Z"
    },
    "papermill": {
     "duration": 0.161074,
     "end_time": "2023-09-03T15:27:54.131902",
     "exception": false,
     "start_time": "2023-09-03T15:27:53.970828",
     "status": "completed"
    },
    "tags": []
   },
   "outputs": [],
   "source": [
    "data = pd.read_csv('/kaggle/input/tiktok-dataset/tiktok_dataset (1).csv')"
   ]
  },
  {
   "cell_type": "markdown",
   "id": "84dec398",
   "metadata": {
    "papermill": {
     "duration": 0.027706,
     "end_time": "2023-09-03T15:27:54.188293",
     "exception": false,
     "start_time": "2023-09-03T15:27:54.160587",
     "status": "completed"
    },
    "tags": []
   },
   "source": [
    "* **EDA - EXPLORATORY DATA ANALYSIS**\n",
    "* **DATA MANIPULATION**"
   ]
  },
  {
   "cell_type": "code",
   "execution_count": 4,
   "id": "1ef6603e",
   "metadata": {
    "execution": {
     "iopub.execute_input": "2023-09-03T15:27:54.246627Z",
     "iopub.status.busy": "2023-09-03T15:27:54.245938Z",
     "iopub.status.idle": "2023-09-03T15:27:54.274680Z",
     "shell.execute_reply": "2023-09-03T15:27:54.273562Z"
    },
    "papermill": {
     "duration": 0.060888,
     "end_time": "2023-09-03T15:27:54.277071",
     "exception": false,
     "start_time": "2023-09-03T15:27:54.216183",
     "status": "completed"
    },
    "tags": []
   },
   "outputs": [
    {
     "data": {
      "text/html": [
       "<div>\n",
       "<style scoped>\n",
       "    .dataframe tbody tr th:only-of-type {\n",
       "        vertical-align: middle;\n",
       "    }\n",
       "\n",
       "    .dataframe tbody tr th {\n",
       "        vertical-align: top;\n",
       "    }\n",
       "\n",
       "    .dataframe thead th {\n",
       "        text-align: right;\n",
       "    }\n",
       "</style>\n",
       "<table border=\"1\" class=\"dataframe\">\n",
       "  <thead>\n",
       "    <tr style=\"text-align: right;\">\n",
       "      <th></th>\n",
       "      <th>#</th>\n",
       "      <th>claim_status</th>\n",
       "      <th>video_id</th>\n",
       "      <th>video_duration_sec</th>\n",
       "      <th>video_transcription_text</th>\n",
       "      <th>verified_status</th>\n",
       "      <th>author_ban_status</th>\n",
       "      <th>video_view_count</th>\n",
       "      <th>video_like_count</th>\n",
       "      <th>video_share_count</th>\n",
       "      <th>video_download_count</th>\n",
       "      <th>video_comment_count</th>\n",
       "    </tr>\n",
       "  </thead>\n",
       "  <tbody>\n",
       "    <tr>\n",
       "      <th>0</th>\n",
       "      <td>1</td>\n",
       "      <td>claim</td>\n",
       "      <td>7017666017</td>\n",
       "      <td>59</td>\n",
       "      <td>someone shared with me that drone deliveries a...</td>\n",
       "      <td>not verified</td>\n",
       "      <td>under review</td>\n",
       "      <td>343296.0</td>\n",
       "      <td>19425.0</td>\n",
       "      <td>241.0</td>\n",
       "      <td>1.0</td>\n",
       "      <td>0.0</td>\n",
       "    </tr>\n",
       "    <tr>\n",
       "      <th>1</th>\n",
       "      <td>2</td>\n",
       "      <td>claim</td>\n",
       "      <td>4014381136</td>\n",
       "      <td>32</td>\n",
       "      <td>someone shared with me that there are more mic...</td>\n",
       "      <td>not verified</td>\n",
       "      <td>active</td>\n",
       "      <td>140877.0</td>\n",
       "      <td>77355.0</td>\n",
       "      <td>19034.0</td>\n",
       "      <td>1161.0</td>\n",
       "      <td>684.0</td>\n",
       "    </tr>\n",
       "    <tr>\n",
       "      <th>2</th>\n",
       "      <td>3</td>\n",
       "      <td>claim</td>\n",
       "      <td>9859838091</td>\n",
       "      <td>31</td>\n",
       "      <td>someone shared with me that american industria...</td>\n",
       "      <td>not verified</td>\n",
       "      <td>active</td>\n",
       "      <td>902185.0</td>\n",
       "      <td>97690.0</td>\n",
       "      <td>2858.0</td>\n",
       "      <td>833.0</td>\n",
       "      <td>329.0</td>\n",
       "    </tr>\n",
       "    <tr>\n",
       "      <th>3</th>\n",
       "      <td>4</td>\n",
       "      <td>claim</td>\n",
       "      <td>1866847991</td>\n",
       "      <td>25</td>\n",
       "      <td>someone shared with me that the metro of st. p...</td>\n",
       "      <td>not verified</td>\n",
       "      <td>active</td>\n",
       "      <td>437506.0</td>\n",
       "      <td>239954.0</td>\n",
       "      <td>34812.0</td>\n",
       "      <td>1234.0</td>\n",
       "      <td>584.0</td>\n",
       "    </tr>\n",
       "    <tr>\n",
       "      <th>4</th>\n",
       "      <td>5</td>\n",
       "      <td>claim</td>\n",
       "      <td>7105231098</td>\n",
       "      <td>19</td>\n",
       "      <td>someone shared with me that the number of busi...</td>\n",
       "      <td>not verified</td>\n",
       "      <td>active</td>\n",
       "      <td>56167.0</td>\n",
       "      <td>34987.0</td>\n",
       "      <td>4110.0</td>\n",
       "      <td>547.0</td>\n",
       "      <td>152.0</td>\n",
       "    </tr>\n",
       "  </tbody>\n",
       "</table>\n",
       "</div>"
      ],
      "text/plain": [
       "   # claim_status    video_id  video_duration_sec  \\\n",
       "0  1        claim  7017666017                  59   \n",
       "1  2        claim  4014381136                  32   \n",
       "2  3        claim  9859838091                  31   \n",
       "3  4        claim  1866847991                  25   \n",
       "4  5        claim  7105231098                  19   \n",
       "\n",
       "                            video_transcription_text verified_status  \\\n",
       "0  someone shared with me that drone deliveries a...    not verified   \n",
       "1  someone shared with me that there are more mic...    not verified   \n",
       "2  someone shared with me that american industria...    not verified   \n",
       "3  someone shared with me that the metro of st. p...    not verified   \n",
       "4  someone shared with me that the number of busi...    not verified   \n",
       "\n",
       "  author_ban_status  video_view_count  video_like_count  video_share_count  \\\n",
       "0      under review          343296.0           19425.0              241.0   \n",
       "1            active          140877.0           77355.0            19034.0   \n",
       "2            active          902185.0           97690.0             2858.0   \n",
       "3            active          437506.0          239954.0            34812.0   \n",
       "4            active           56167.0           34987.0             4110.0   \n",
       "\n",
       "   video_download_count  video_comment_count  \n",
       "0                   1.0                  0.0  \n",
       "1                1161.0                684.0  \n",
       "2                 833.0                329.0  \n",
       "3                1234.0                584.0  \n",
       "4                 547.0                152.0  "
      ]
     },
     "execution_count": 4,
     "metadata": {},
     "output_type": "execute_result"
    }
   ],
   "source": [
    "data.head()\n",
    "\n",
    "#The dataframe contains collection of text, categorical and numerical data"
   ]
  },
  {
   "cell_type": "code",
   "execution_count": 5,
   "id": "abda4ffb",
   "metadata": {
    "execution": {
     "iopub.execute_input": "2023-09-03T15:27:54.336683Z",
     "iopub.status.busy": "2023-09-03T15:27:54.336267Z",
     "iopub.status.idle": "2023-09-03T15:27:54.343398Z",
     "shell.execute_reply": "2023-09-03T15:27:54.342211Z"
    },
    "papermill": {
     "duration": 0.040164,
     "end_time": "2023-09-03T15:27:54.345702",
     "exception": false,
     "start_time": "2023-09-03T15:27:54.305538",
     "status": "completed"
    },
    "tags": []
   },
   "outputs": [
    {
     "data": {
      "text/plain": [
       "(19382, 12)"
      ]
     },
     "execution_count": 5,
     "metadata": {},
     "output_type": "execute_result"
    }
   ],
   "source": [
    "data.shape"
   ]
  },
  {
   "cell_type": "code",
   "execution_count": 6,
   "id": "3d426293",
   "metadata": {
    "execution": {
     "iopub.execute_input": "2023-09-03T15:27:54.405437Z",
     "iopub.status.busy": "2023-09-03T15:27:54.404816Z",
     "iopub.status.idle": "2023-09-03T15:27:54.457078Z",
     "shell.execute_reply": "2023-09-03T15:27:54.455911Z"
    },
    "papermill": {
     "duration": 0.085136,
     "end_time": "2023-09-03T15:27:54.459481",
     "exception": false,
     "start_time": "2023-09-03T15:27:54.374345",
     "status": "completed"
    },
    "tags": []
   },
   "outputs": [
    {
     "name": "stdout",
     "output_type": "stream",
     "text": [
      "<class 'pandas.core.frame.DataFrame'>\n",
      "RangeIndex: 19382 entries, 0 to 19381\n",
      "Data columns (total 12 columns):\n",
      " #   Column                    Non-Null Count  Dtype  \n",
      "---  ------                    --------------  -----  \n",
      " 0   #                         19382 non-null  int64  \n",
      " 1   claim_status              19084 non-null  object \n",
      " 2   video_id                  19382 non-null  int64  \n",
      " 3   video_duration_sec        19382 non-null  int64  \n",
      " 4   video_transcription_text  19084 non-null  object \n",
      " 5   verified_status           19382 non-null  object \n",
      " 6   author_ban_status         19382 non-null  object \n",
      " 7   video_view_count          19084 non-null  float64\n",
      " 8   video_like_count          19084 non-null  float64\n",
      " 9   video_share_count         19084 non-null  float64\n",
      " 10  video_download_count      19084 non-null  float64\n",
      " 11  video_comment_count       19084 non-null  float64\n",
      "dtypes: float64(5), int64(3), object(4)\n",
      "memory usage: 1.8+ MB\n"
     ]
    }
   ],
   "source": [
    "data.info()\n",
    "\n",
    "#There are 19382 observations but some variable have missing values eg claim status , video_transcription_text \\\n",
    "# and all of count variables"
   ]
  },
  {
   "cell_type": "code",
   "execution_count": 7,
   "id": "000fae80",
   "metadata": {
    "execution": {
     "iopub.execute_input": "2023-09-03T15:27:54.520346Z",
     "iopub.status.busy": "2023-09-03T15:27:54.519440Z",
     "iopub.status.idle": "2023-09-03T15:27:54.568265Z",
     "shell.execute_reply": "2023-09-03T15:27:54.567114Z"
    },
    "papermill": {
     "duration": 0.081174,
     "end_time": "2023-09-03T15:27:54.570793",
     "exception": false,
     "start_time": "2023-09-03T15:27:54.489619",
     "status": "completed"
    },
    "tags": []
   },
   "outputs": [
    {
     "data": {
      "text/html": [
       "<div>\n",
       "<style scoped>\n",
       "    .dataframe tbody tr th:only-of-type {\n",
       "        vertical-align: middle;\n",
       "    }\n",
       "\n",
       "    .dataframe tbody tr th {\n",
       "        vertical-align: top;\n",
       "    }\n",
       "\n",
       "    .dataframe thead th {\n",
       "        text-align: right;\n",
       "    }\n",
       "</style>\n",
       "<table border=\"1\" class=\"dataframe\">\n",
       "  <thead>\n",
       "    <tr style=\"text-align: right;\">\n",
       "      <th></th>\n",
       "      <th>#</th>\n",
       "      <th>video_id</th>\n",
       "      <th>video_duration_sec</th>\n",
       "      <th>video_view_count</th>\n",
       "      <th>video_like_count</th>\n",
       "      <th>video_share_count</th>\n",
       "      <th>video_download_count</th>\n",
       "      <th>video_comment_count</th>\n",
       "    </tr>\n",
       "  </thead>\n",
       "  <tbody>\n",
       "    <tr>\n",
       "      <th>count</th>\n",
       "      <td>19382.000000</td>\n",
       "      <td>1.938200e+04</td>\n",
       "      <td>19382.000000</td>\n",
       "      <td>19084.000000</td>\n",
       "      <td>19084.000000</td>\n",
       "      <td>19084.000000</td>\n",
       "      <td>19084.000000</td>\n",
       "      <td>19084.000000</td>\n",
       "    </tr>\n",
       "    <tr>\n",
       "      <th>mean</th>\n",
       "      <td>9691.500000</td>\n",
       "      <td>5.627454e+09</td>\n",
       "      <td>32.421732</td>\n",
       "      <td>254708.558688</td>\n",
       "      <td>84304.636030</td>\n",
       "      <td>16735.248323</td>\n",
       "      <td>1049.429627</td>\n",
       "      <td>349.312146</td>\n",
       "    </tr>\n",
       "    <tr>\n",
       "      <th>std</th>\n",
       "      <td>5595.245794</td>\n",
       "      <td>2.536440e+09</td>\n",
       "      <td>16.229967</td>\n",
       "      <td>322893.280814</td>\n",
       "      <td>133420.546814</td>\n",
       "      <td>32036.174350</td>\n",
       "      <td>2004.299894</td>\n",
       "      <td>799.638865</td>\n",
       "    </tr>\n",
       "    <tr>\n",
       "      <th>min</th>\n",
       "      <td>1.000000</td>\n",
       "      <td>1.234959e+09</td>\n",
       "      <td>5.000000</td>\n",
       "      <td>20.000000</td>\n",
       "      <td>0.000000</td>\n",
       "      <td>0.000000</td>\n",
       "      <td>0.000000</td>\n",
       "      <td>0.000000</td>\n",
       "    </tr>\n",
       "    <tr>\n",
       "      <th>25%</th>\n",
       "      <td>4846.250000</td>\n",
       "      <td>3.430417e+09</td>\n",
       "      <td>18.000000</td>\n",
       "      <td>4942.500000</td>\n",
       "      <td>810.750000</td>\n",
       "      <td>115.000000</td>\n",
       "      <td>7.000000</td>\n",
       "      <td>1.000000</td>\n",
       "    </tr>\n",
       "    <tr>\n",
       "      <th>50%</th>\n",
       "      <td>9691.500000</td>\n",
       "      <td>5.618664e+09</td>\n",
       "      <td>32.000000</td>\n",
       "      <td>9954.500000</td>\n",
       "      <td>3403.500000</td>\n",
       "      <td>717.000000</td>\n",
       "      <td>46.000000</td>\n",
       "      <td>9.000000</td>\n",
       "    </tr>\n",
       "    <tr>\n",
       "      <th>75%</th>\n",
       "      <td>14536.750000</td>\n",
       "      <td>7.843960e+09</td>\n",
       "      <td>47.000000</td>\n",
       "      <td>504327.000000</td>\n",
       "      <td>125020.000000</td>\n",
       "      <td>18222.000000</td>\n",
       "      <td>1156.250000</td>\n",
       "      <td>292.000000</td>\n",
       "    </tr>\n",
       "    <tr>\n",
       "      <th>max</th>\n",
       "      <td>19382.000000</td>\n",
       "      <td>9.999873e+09</td>\n",
       "      <td>60.000000</td>\n",
       "      <td>999817.000000</td>\n",
       "      <td>657830.000000</td>\n",
       "      <td>256130.000000</td>\n",
       "      <td>14994.000000</td>\n",
       "      <td>9599.000000</td>\n",
       "    </tr>\n",
       "  </tbody>\n",
       "</table>\n",
       "</div>"
      ],
      "text/plain": [
       "                  #      video_id  video_duration_sec  video_view_count  \\\n",
       "count  19382.000000  1.938200e+04        19382.000000      19084.000000   \n",
       "mean    9691.500000  5.627454e+09           32.421732     254708.558688   \n",
       "std     5595.245794  2.536440e+09           16.229967     322893.280814   \n",
       "min        1.000000  1.234959e+09            5.000000         20.000000   \n",
       "25%     4846.250000  3.430417e+09           18.000000       4942.500000   \n",
       "50%     9691.500000  5.618664e+09           32.000000       9954.500000   \n",
       "75%    14536.750000  7.843960e+09           47.000000     504327.000000   \n",
       "max    19382.000000  9.999873e+09           60.000000     999817.000000   \n",
       "\n",
       "       video_like_count  video_share_count  video_download_count  \\\n",
       "count      19084.000000       19084.000000          19084.000000   \n",
       "mean       84304.636030       16735.248323           1049.429627   \n",
       "std       133420.546814       32036.174350           2004.299894   \n",
       "min            0.000000           0.000000              0.000000   \n",
       "25%          810.750000         115.000000              7.000000   \n",
       "50%         3403.500000         717.000000             46.000000   \n",
       "75%       125020.000000       18222.000000           1156.250000   \n",
       "max       657830.000000      256130.000000          14994.000000   \n",
       "\n",
       "       video_comment_count  \n",
       "count         19084.000000  \n",
       "mean            349.312146  \n",
       "std             799.638865  \n",
       "min               0.000000  \n",
       "25%               1.000000  \n",
       "50%               9.000000  \n",
       "75%             292.000000  \n",
       "max            9599.000000  "
      ]
     },
     "execution_count": 7,
     "metadata": {},
     "output_type": "execute_result"
    }
   ],
   "source": [
    "data.describe()\n",
    "\n",
    "# there are outliers at high end of Distribution\n",
    "# Large Standard Deviation\n",
    "# Maximum values are much higher as compared to their Quartile values"
   ]
  },
  {
   "cell_type": "markdown",
   "id": "4809058e",
   "metadata": {
    "papermill": {
     "duration": 0.028538,
     "end_time": "2023-09-03T15:27:54.628610",
     "exception": false,
     "start_time": "2023-09-03T15:27:54.600072",
     "status": "completed"
    },
    "tags": []
   },
   "source": [
    "# Missing and duplicat data"
   ]
  },
  {
   "cell_type": "code",
   "execution_count": 8,
   "id": "40623d1e",
   "metadata": {
    "execution": {
     "iopub.execute_input": "2023-09-03T15:27:54.687743Z",
     "iopub.status.busy": "2023-09-03T15:27:54.687326Z",
     "iopub.status.idle": "2023-09-03T15:27:54.724579Z",
     "shell.execute_reply": "2023-09-03T15:27:54.723308Z"
    },
    "papermill": {
     "duration": 0.069786,
     "end_time": "2023-09-03T15:27:54.727238",
     "exception": false,
     "start_time": "2023-09-03T15:27:54.657452",
     "status": "completed"
    },
    "tags": []
   },
   "outputs": [
    {
     "data": {
      "text/plain": [
       "#                             0\n",
       "claim_status                298\n",
       "video_id                      0\n",
       "video_duration_sec            0\n",
       "video_transcription_text    298\n",
       "verified_status               0\n",
       "author_ban_status             0\n",
       "video_view_count            298\n",
       "video_like_count            298\n",
       "video_share_count           298\n",
       "video_download_count        298\n",
       "video_comment_count         298\n",
       "dtype: int64"
      ]
     },
     "execution_count": 8,
     "metadata": {},
     "output_type": "execute_result"
    }
   ],
   "source": [
    "data.isna().sum()"
   ]
  },
  {
   "cell_type": "code",
   "execution_count": 9,
   "id": "15ddd5c4",
   "metadata": {
    "execution": {
     "iopub.execute_input": "2023-09-03T15:27:54.787549Z",
     "iopub.status.busy": "2023-09-03T15:27:54.787090Z",
     "iopub.status.idle": "2023-09-03T15:27:54.823357Z",
     "shell.execute_reply": "2023-09-03T15:27:54.822104Z"
    },
    "papermill": {
     "duration": 0.069509,
     "end_time": "2023-09-03T15:27:54.825986",
     "exception": false,
     "start_time": "2023-09-03T15:27:54.756477",
     "status": "completed"
    },
    "tags": []
   },
   "outputs": [],
   "source": [
    "data=data.dropna(axis=0)"
   ]
  },
  {
   "cell_type": "code",
   "execution_count": 10,
   "id": "080f4f3a",
   "metadata": {
    "execution": {
     "iopub.execute_input": "2023-09-03T15:27:54.886546Z",
     "iopub.status.busy": "2023-09-03T15:27:54.886133Z",
     "iopub.status.idle": "2023-09-03T15:27:54.905914Z",
     "shell.execute_reply": "2023-09-03T15:27:54.905093Z"
    },
    "papermill": {
     "duration": 0.052608,
     "end_time": "2023-09-03T15:27:54.908200",
     "exception": false,
     "start_time": "2023-09-03T15:27:54.855592",
     "status": "completed"
    },
    "tags": []
   },
   "outputs": [
    {
     "data": {
      "text/html": [
       "<div>\n",
       "<style scoped>\n",
       "    .dataframe tbody tr th:only-of-type {\n",
       "        vertical-align: middle;\n",
       "    }\n",
       "\n",
       "    .dataframe tbody tr th {\n",
       "        vertical-align: top;\n",
       "    }\n",
       "\n",
       "    .dataframe thead th {\n",
       "        text-align: right;\n",
       "    }\n",
       "</style>\n",
       "<table border=\"1\" class=\"dataframe\">\n",
       "  <thead>\n",
       "    <tr style=\"text-align: right;\">\n",
       "      <th></th>\n",
       "      <th>#</th>\n",
       "      <th>claim_status</th>\n",
       "      <th>video_id</th>\n",
       "      <th>video_duration_sec</th>\n",
       "      <th>video_transcription_text</th>\n",
       "      <th>verified_status</th>\n",
       "      <th>author_ban_status</th>\n",
       "      <th>video_view_count</th>\n",
       "      <th>video_like_count</th>\n",
       "      <th>video_share_count</th>\n",
       "      <th>video_download_count</th>\n",
       "      <th>video_comment_count</th>\n",
       "    </tr>\n",
       "  </thead>\n",
       "  <tbody>\n",
       "    <tr>\n",
       "      <th>0</th>\n",
       "      <td>1</td>\n",
       "      <td>claim</td>\n",
       "      <td>7017666017</td>\n",
       "      <td>59</td>\n",
       "      <td>someone shared with me that drone deliveries a...</td>\n",
       "      <td>not verified</td>\n",
       "      <td>under review</td>\n",
       "      <td>343296.0</td>\n",
       "      <td>19425.0</td>\n",
       "      <td>241.0</td>\n",
       "      <td>1.0</td>\n",
       "      <td>0.0</td>\n",
       "    </tr>\n",
       "    <tr>\n",
       "      <th>1</th>\n",
       "      <td>2</td>\n",
       "      <td>claim</td>\n",
       "      <td>4014381136</td>\n",
       "      <td>32</td>\n",
       "      <td>someone shared with me that there are more mic...</td>\n",
       "      <td>not verified</td>\n",
       "      <td>active</td>\n",
       "      <td>140877.0</td>\n",
       "      <td>77355.0</td>\n",
       "      <td>19034.0</td>\n",
       "      <td>1161.0</td>\n",
       "      <td>684.0</td>\n",
       "    </tr>\n",
       "    <tr>\n",
       "      <th>2</th>\n",
       "      <td>3</td>\n",
       "      <td>claim</td>\n",
       "      <td>9859838091</td>\n",
       "      <td>31</td>\n",
       "      <td>someone shared with me that american industria...</td>\n",
       "      <td>not verified</td>\n",
       "      <td>active</td>\n",
       "      <td>902185.0</td>\n",
       "      <td>97690.0</td>\n",
       "      <td>2858.0</td>\n",
       "      <td>833.0</td>\n",
       "      <td>329.0</td>\n",
       "    </tr>\n",
       "    <tr>\n",
       "      <th>3</th>\n",
       "      <td>4</td>\n",
       "      <td>claim</td>\n",
       "      <td>1866847991</td>\n",
       "      <td>25</td>\n",
       "      <td>someone shared with me that the metro of st. p...</td>\n",
       "      <td>not verified</td>\n",
       "      <td>active</td>\n",
       "      <td>437506.0</td>\n",
       "      <td>239954.0</td>\n",
       "      <td>34812.0</td>\n",
       "      <td>1234.0</td>\n",
       "      <td>584.0</td>\n",
       "    </tr>\n",
       "    <tr>\n",
       "      <th>4</th>\n",
       "      <td>5</td>\n",
       "      <td>claim</td>\n",
       "      <td>7105231098</td>\n",
       "      <td>19</td>\n",
       "      <td>someone shared with me that the number of busi...</td>\n",
       "      <td>not verified</td>\n",
       "      <td>active</td>\n",
       "      <td>56167.0</td>\n",
       "      <td>34987.0</td>\n",
       "      <td>4110.0</td>\n",
       "      <td>547.0</td>\n",
       "      <td>152.0</td>\n",
       "    </tr>\n",
       "  </tbody>\n",
       "</table>\n",
       "</div>"
      ],
      "text/plain": [
       "   # claim_status    video_id  video_duration_sec  \\\n",
       "0  1        claim  7017666017                  59   \n",
       "1  2        claim  4014381136                  32   \n",
       "2  3        claim  9859838091                  31   \n",
       "3  4        claim  1866847991                  25   \n",
       "4  5        claim  7105231098                  19   \n",
       "\n",
       "                            video_transcription_text verified_status  \\\n",
       "0  someone shared with me that drone deliveries a...    not verified   \n",
       "1  someone shared with me that there are more mic...    not verified   \n",
       "2  someone shared with me that american industria...    not verified   \n",
       "3  someone shared with me that the metro of st. p...    not verified   \n",
       "4  someone shared with me that the number of busi...    not verified   \n",
       "\n",
       "  author_ban_status  video_view_count  video_like_count  video_share_count  \\\n",
       "0      under review          343296.0           19425.0              241.0   \n",
       "1            active          140877.0           77355.0            19034.0   \n",
       "2            active          902185.0           97690.0             2858.0   \n",
       "3            active          437506.0          239954.0            34812.0   \n",
       "4            active           56167.0           34987.0             4110.0   \n",
       "\n",
       "   video_download_count  video_comment_count  \n",
       "0                   1.0                  0.0  \n",
       "1                1161.0                684.0  \n",
       "2                 833.0                329.0  \n",
       "3                1234.0                584.0  \n",
       "4                 547.0                152.0  "
      ]
     },
     "execution_count": 10,
     "metadata": {},
     "output_type": "execute_result"
    }
   ],
   "source": [
    "data.head()"
   ]
  },
  {
   "cell_type": "code",
   "execution_count": 11,
   "id": "3bf715c2",
   "metadata": {
    "execution": {
     "iopub.execute_input": "2023-09-03T15:27:54.969823Z",
     "iopub.status.busy": "2023-09-03T15:27:54.968541Z",
     "iopub.status.idle": "2023-09-03T15:27:55.003974Z",
     "shell.execute_reply": "2023-09-03T15:27:55.002782Z"
    },
    "papermill": {
     "duration": 0.068586,
     "end_time": "2023-09-03T15:27:55.006522",
     "exception": false,
     "start_time": "2023-09-03T15:27:54.937936",
     "status": "completed"
    },
    "tags": []
   },
   "outputs": [
    {
     "data": {
      "text/plain": [
       "0"
      ]
     },
     "execution_count": 11,
     "metadata": {},
     "output_type": "execute_result"
    }
   ],
   "source": [
    "data.duplicated().sum()"
   ]
  },
  {
   "cell_type": "markdown",
   "id": "fc95ee58",
   "metadata": {
    "papermill": {
     "duration": 0.029535,
     "end_time": "2023-09-03T15:27:55.066084",
     "exception": false,
     "start_time": "2023-09-03T15:27:55.036549",
     "status": "completed"
    },
    "tags": []
   },
   "source": [
    "# Checking outliers - box plot , Histogram"
   ]
  },
  {
   "cell_type": "code",
   "execution_count": 12,
   "id": "24daabec",
   "metadata": {
    "execution": {
     "iopub.execute_input": "2023-09-03T15:27:55.127359Z",
     "iopub.status.busy": "2023-09-03T15:27:55.126953Z",
     "iopub.status.idle": "2023-09-03T15:27:55.385213Z",
     "shell.execute_reply": "2023-09-03T15:27:55.383996Z"
    },
    "papermill": {
     "duration": 0.293846,
     "end_time": "2023-09-03T15:27:55.389482",
     "exception": false,
     "start_time": "2023-09-03T15:27:55.095636",
     "status": "completed"
    },
    "tags": []
   },
   "outputs": [
    {
     "data": {
      "text/plain": [
       "<Axes: title={'center': 'video duration sec'}, xlabel='video_duration_sec'>"
      ]
     },
     "execution_count": 12,
     "metadata": {},
     "output_type": "execute_result"
    },
    {
     "data": {
      "image/png": "[encoded data removed]",
      "text/plain": [
       "<Figure size 500x100 with 1 Axes>"
      ]
     },
     "metadata": {},
     "output_type": "display_data"
    }
   ],
   "source": [
    "#'Video_duration_sec'\n",
    "plt.figure(figsize=(5,1))\n",
    "plt.title('video duration sec')\n",
    "sns.boxplot(x=data.video_duration_sec)"
   ]
  },
  {
   "cell_type": "code",
   "execution_count": 13,
   "id": "ec0a4a82",
   "metadata": {
    "execution": {
     "iopub.execute_input": "2023-09-03T15:27:55.455069Z",
     "iopub.status.busy": "2023-09-03T15:27:55.454671Z",
     "iopub.status.idle": "2023-09-03T15:27:55.856083Z",
     "shell.execute_reply": "2023-09-03T15:27:55.854782Z"
    },
    "papermill": {
     "duration": 0.43502,
     "end_time": "2023-09-03T15:27:55.858632",
     "exception": false,
     "start_time": "2023-09-03T15:27:55.423612",
     "status": "completed"
    },
    "tags": []
   },
   "outputs": [
    {
     "data": {
      "text/plain": [
       "<matplotlib.lines.Line2D at 0x7eb99ae3bf40>"
      ]
     },
     "execution_count": 13,
     "metadata": {},
     "output_type": "execute_result"
    },
    {
     "data": {
      "image/png": "[encoded data removed]",
      "text/plain": [
       "<Figure size 500x300 with 1 Axes>"
      ]
     },
     "metadata": {},
     "output_type": "display_data"
    }
   ],
   "source": [
    "plt.figure(figsize=(5,3))\n",
    "plt.title('video duration sec')\n",
    "median = data.video_duration_sec.median()\n",
    "ax = sns.histplot(data.video_duration_sec , bins =range(10,61,5))\n",
    "ax.axvline(median , ls='--' , color = 'red')\n",
    "\n",
    "#the distribution is uniform"
   ]
  },
  {
   "cell_type": "code",
   "execution_count": 14,
   "id": "2a679b85",
   "metadata": {
    "execution": {
     "iopub.execute_input": "2023-09-03T15:27:55.923274Z",
     "iopub.status.busy": "2023-09-03T15:27:55.921867Z",
     "iopub.status.idle": "2023-09-03T15:27:56.148498Z",
     "shell.execute_reply": "2023-09-03T15:27:56.147303Z"
    },
    "papermill": {
     "duration": 0.261625,
     "end_time": "2023-09-03T15:27:56.151319",
     "exception": false,
     "start_time": "2023-09-03T15:27:55.889694",
     "status": "completed"
    },
    "tags": []
   },
   "outputs": [
    {
     "data": {
      "text/plain": [
       "<Axes: title={'center': 'vidoe view count'}, xlabel='video_view_count'>"
      ]
     },
     "execution_count": 14,
     "metadata": {},
     "output_type": "execute_result"
    },
    {
     "data": {
      "image/png": "[encoded data removed]",
      "text/plain": [
       "<Figure size 500x100 with 1 Axes>"
      ]
     },
     "metadata": {},
     "output_type": "display_data"
    }
   ],
   "source": [
    "plt.figure(figsize=(5,1))\n",
    "plt.title('vidoe view count')\n",
    "sns.boxplot(x=data.video_view_count)"
   ]
  },
  {
   "cell_type": "code",
   "execution_count": 15,
   "id": "45452343",
   "metadata": {
    "execution": {
     "iopub.execute_input": "2023-09-03T15:27:56.214787Z",
     "iopub.status.busy": "2023-09-03T15:27:56.214387Z",
     "iopub.status.idle": "2023-09-03T15:27:56.222004Z",
     "shell.execute_reply": "2023-09-03T15:27:56.220825Z"
    },
    "papermill": {
     "duration": 0.042157,
     "end_time": "2023-09-03T15:27:56.224276",
     "exception": false,
     "start_time": "2023-09-03T15:27:56.182119",
     "status": "completed"
    },
    "tags": []
   },
   "outputs": [],
   "source": [
    "#Helper function to plot histogram\n",
    "\n",
    "def histogrammer(column_str , median_text=True , **kwargs):\n",
    "    median = round(data[column_str].median(),1)\n",
    "    plt.figure(figsize=(5,3))\n",
    "    ax=sns.histplot(x=data[column_str], **kwargs)\n",
    "    plt.axvline(median , ls='--',color='red')\n",
    "    if median_text == True:\n",
    "        ax.text(0.25 ,0.85 , f'median={median}' , color='red', ha='left',\\\n",
    "                va='top', transform = ax.transAxes)\n",
    "    else:\n",
    "        print('Median :' , median)\n",
    "    plt.title(f'{column_str} histogram');"
   ]
  },
  {
   "cell_type": "code",
   "execution_count": 16,
   "id": "3bc2239d",
   "metadata": {
    "execution": {
     "iopub.execute_input": "2023-09-03T15:27:56.288373Z",
     "iopub.status.busy": "2023-09-03T15:27:56.287659Z",
     "iopub.status.idle": "2023-09-03T15:27:56.293293Z",
     "shell.execute_reply": "2023-09-03T15:27:56.292216Z"
    },
    "papermill": {
     "duration": 0.040332,
     "end_time": "2023-09-03T15:27:56.295454",
     "exception": false,
     "start_time": "2023-09-03T15:27:56.255122",
     "status": "completed"
    },
    "tags": []
   },
   "outputs": [],
   "source": [
    "def boxplott (column_str):\n",
    "    plt.figure(figsize=(10,1))\n",
    "#     plt.title(f'{cloumn_str} box plot')\n",
    "    sns.boxplot(x=data[column_str])"
   ]
  },
  {
   "cell_type": "code",
   "execution_count": 17,
   "id": "969064d0",
   "metadata": {
    "execution": {
     "iopub.execute_input": "2023-09-03T15:27:56.359632Z",
     "iopub.status.busy": "2023-09-03T15:27:56.359255Z",
     "iopub.status.idle": "2023-09-03T15:27:56.778703Z",
     "shell.execute_reply": "2023-09-03T15:27:56.777708Z"
    },
    "papermill": {
     "duration": 0.455261,
     "end_time": "2023-09-03T15:27:56.781759",
     "exception": false,
     "start_time": "2023-09-03T15:27:56.326498",
     "status": "completed"
    },
    "tags": []
   },
   "outputs": [
    {
     "data": {
      "image/png": "[encoded data removed]",
      "text/plain": [
       "<Figure size 500x300 with 1 Axes>"
      ]
     },
     "metadata": {},
     "output_type": "display_data"
    }
   ],
   "source": [
    "# plt.figure(figsize=(5,3))\n",
    "# plt.title('video view count')\n",
    "# median = data.video_view_count.median()\n",
    "# ax=sns.histplot(data.video_view_count , bins=(range(0,(10**6+1),10**5)))\n",
    "# ax.axvline(median,ls='--',color ='red')   \n",
    "\n",
    "\n",
    "#uneven distribution\n",
    "\n",
    "\n",
    "# histogrammer('video_view_count',median_text=True,bins=(range(0,(10**6+1),10**5)))\n",
    "histogrammer('video_view_count')"
   ]
  },
  {
   "cell_type": "code",
   "execution_count": 18,
   "id": "71f2d2c5",
   "metadata": {
    "execution": {
     "iopub.execute_input": "2023-09-03T15:27:56.847086Z",
     "iopub.status.busy": "2023-09-03T15:27:56.846642Z",
     "iopub.status.idle": "2023-09-03T15:27:57.071678Z",
     "shell.execute_reply": "2023-09-03T15:27:57.070423Z"
    },
    "papermill": {
     "duration": 0.260684,
     "end_time": "2023-09-03T15:27:57.074318",
     "exception": false,
     "start_time": "2023-09-03T15:27:56.813634",
     "status": "completed"
    },
    "tags": []
   },
   "outputs": [
    {
     "data": {
      "image/png": "[encoded data removed]",
      "text/plain": [
       "<Figure size 1000x100 with 1 Axes>"
      ]
     },
     "metadata": {},
     "output_type": "display_data"
    }
   ],
   "source": [
    "boxplott('video_like_count')"
   ]
  },
  {
   "cell_type": "code",
   "execution_count": 19,
   "id": "91f2b954",
   "metadata": {
    "execution": {
     "iopub.execute_input": "2023-09-03T15:27:57.141129Z",
     "iopub.status.busy": "2023-09-03T15:27:57.140391Z",
     "iopub.status.idle": "2023-09-03T15:27:57.645904Z",
     "shell.execute_reply": "2023-09-03T15:27:57.644765Z"
    },
    "papermill": {
     "duration": 0.541502,
     "end_time": "2023-09-03T15:27:57.648426",
     "exception": false,
     "start_time": "2023-09-03T15:27:57.106924",
     "status": "completed"
    },
    "tags": []
   },
   "outputs": [
    {
     "data": {
      "image/png": "[encoded data removed]",
      "text/plain": [
       "<Figure size 500x300 with 1 Axes>"
      ]
     },
     "metadata": {},
     "output_type": "display_data"
    }
   ],
   "source": [
    "histogrammer('video_like_count')"
   ]
  },
  {
   "cell_type": "code",
   "execution_count": 20,
   "id": "e12b4149",
   "metadata": {
    "execution": {
     "iopub.execute_input": "2023-09-03T15:27:57.715582Z",
     "iopub.status.busy": "2023-09-03T15:27:57.715189Z",
     "iopub.status.idle": "2023-09-03T15:27:57.934537Z",
     "shell.execute_reply": "2023-09-03T15:27:57.933628Z"
    },
    "papermill": {
     "duration": 0.255675,
     "end_time": "2023-09-03T15:27:57.936870",
     "exception": false,
     "start_time": "2023-09-03T15:27:57.681195",
     "status": "completed"
    },
    "tags": []
   },
   "outputs": [
    {
     "data": {
      "image/png": "[encoded data removed]",
      "text/plain": [
       "<Figure size 1000x100 with 1 Axes>"
      ]
     },
     "metadata": {},
     "output_type": "display_data"
    }
   ],
   "source": [
    "boxplott('video_comment_count')"
   ]
  },
  {
   "cell_type": "markdown",
   "id": "3e5a93d3",
   "metadata": {
    "papermill": {
     "duration": 0.032814,
     "end_time": "2023-09-03T15:27:58.002944",
     "exception": false,
     "start_time": "2023-09-03T15:27:57.970130",
     "status": "completed"
    },
    "tags": []
   },
   "source": [
    "**Investigating the variable**"
   ]
  },
  {
   "cell_type": "code",
   "execution_count": 21,
   "id": "4ee9cc3d",
   "metadata": {
    "execution": {
     "iopub.execute_input": "2023-09-03T15:27:58.070886Z",
     "iopub.status.busy": "2023-09-03T15:27:58.070139Z",
     "iopub.status.idle": "2023-09-03T15:27:58.076751Z",
     "shell.execute_reply": "2023-09-03T15:27:58.075633Z"
    },
    "papermill": {
     "duration": 0.043191,
     "end_time": "2023-09-03T15:27:58.078804",
     "exception": false,
     "start_time": "2023-09-03T15:27:58.035613",
     "status": "completed"
    },
    "tags": []
   },
   "outputs": [
    {
     "data": {
      "text/plain": [
       "Index(['#', 'claim_status', 'video_id', 'video_duration_sec',\n",
       "       'video_transcription_text', 'verified_status', 'author_ban_status',\n",
       "       'video_view_count', 'video_like_count', 'video_share_count',\n",
       "       'video_download_count', 'video_comment_count'],\n",
       "      dtype='object')"
      ]
     },
     "execution_count": 21,
     "metadata": {},
     "output_type": "execute_result"
    }
   ],
   "source": [
    "data.columns"
   ]
  },
  {
   "cell_type": "code",
   "execution_count": 22,
   "id": "158b13c9",
   "metadata": {
    "execution": {
     "iopub.execute_input": "2023-09-03T15:27:58.146764Z",
     "iopub.status.busy": "2023-09-03T15:27:58.145988Z",
     "iopub.status.idle": "2023-09-03T15:27:58.156491Z",
     "shell.execute_reply": "2023-09-03T15:27:58.155325Z"
    },
    "papermill": {
     "duration": 0.04721,
     "end_time": "2023-09-03T15:27:58.158683",
     "exception": false,
     "start_time": "2023-09-03T15:27:58.111473",
     "status": "completed"
    },
    "tags": []
   },
   "outputs": [
    {
     "data": {
      "text/plain": [
       "claim      9608\n",
       "opinion    9476\n",
       "Name: claim_status, dtype: int64"
      ]
     },
     "execution_count": 22,
     "metadata": {},
     "output_type": "execute_result"
    }
   ],
   "source": [
    "data.claim_status.value_counts()\n",
    "\n",
    "# the Claim varibale is quite balnaced or else we would have to 'stratify' the data "
   ]
  },
  {
   "cell_type": "markdown",
   "id": "719ad777",
   "metadata": {
    "papermill": {
     "duration": 0.032613,
     "end_time": "2023-09-03T15:27:58.224564",
     "exception": false,
     "start_time": "2023-09-03T15:27:58.191951",
     "status": "completed"
    },
    "tags": []
   },
   "source": [
    "***Examing the engagement trend associated with each claim status***"
   ]
  },
  {
   "cell_type": "code",
   "execution_count": 23,
   "id": "638cb3d8",
   "metadata": {
    "execution": {
     "iopub.execute_input": "2023-09-03T15:27:58.292219Z",
     "iopub.status.busy": "2023-09-03T15:27:58.291742Z",
     "iopub.status.idle": "2023-09-03T15:27:58.305005Z",
     "shell.execute_reply": "2023-09-03T15:27:58.303531Z"
    },
    "papermill": {
     "duration": 0.050173,
     "end_time": "2023-09-03T15:27:58.307548",
     "exception": false,
     "start_time": "2023-09-03T15:27:58.257375",
     "status": "completed"
    },
    "tags": []
   },
   "outputs": [
    {
     "name": "stdout",
     "output_type": "stream",
     "text": [
      "Mean Vew count :  501029.4527477102\n",
      "Median Vew count :  501555.0\n"
     ]
    }
   ],
   "source": [
    "#Average view count of the videos with 'claim status\n",
    "\n",
    "claims = data[data['claim_status']=='claim']\n",
    "print('Mean Vew count : ' ,claims['video_view_count'].mean() )\n",
    "print('Median Vew count : ' ,claims['video_view_count'].median() )"
   ]
  },
  {
   "cell_type": "code",
   "execution_count": 24,
   "id": "6a851bc7",
   "metadata": {
    "execution": {
     "iopub.execute_input": "2023-09-03T15:27:58.376743Z",
     "iopub.status.busy": "2023-09-03T15:27:58.376273Z",
     "iopub.status.idle": "2023-09-03T15:27:58.390983Z",
     "shell.execute_reply": "2023-09-03T15:27:58.389496Z"
    },
    "papermill": {
     "duration": 0.052286,
     "end_time": "2023-09-03T15:27:58.393470",
     "exception": false,
     "start_time": "2023-09-03T15:27:58.341184",
     "status": "completed"
    },
    "tags": []
   },
   "outputs": [
    {
     "name": "stdout",
     "output_type": "stream",
     "text": [
      "Mean view count : 4956.43224989447\n",
      "Median view count : 4953.0\n"
     ]
    }
   ],
   "source": [
    "#Average view count of the videos with 'opinion status\n",
    "\n",
    "opinion = data[data['claim_status']=='opinion']\n",
    "print('Mean view count :' , opinion['video_view_count'].mean())\n",
    "print('Median view count :' , opinion['video_view_count'].median())"
   ]
  },
  {
   "cell_type": "markdown",
   "id": "4ec68cff",
   "metadata": {
    "papermill": {
     "duration": 0.032646,
     "end_time": "2023-09-03T15:27:58.459405",
     "exception": false,
     "start_time": "2023-09-03T15:27:58.426759",
     "status": "completed"
    },
    "tags": []
   },
   "source": [
    "*The mean and median within each category are close to each other but ther is vast discrepancy between view counts for videos labeled as claims and opinion*"
   ]
  },
  {
   "cell_type": "markdown",
   "id": "8876fd5d",
   "metadata": {
    "papermill": {
     "duration": 0.03375,
     "end_time": "2023-09-03T15:27:58.525972",
     "exception": false,
     "start_time": "2023-09-03T15:27:58.492222",
     "status": "completed"
    },
    "tags": []
   },
   "source": [
    "**Examining the ban staus**"
   ]
  },
  {
   "cell_type": "code",
   "execution_count": 25,
   "id": "9edca11e",
   "metadata": {
    "execution": {
     "iopub.execute_input": "2023-09-03T15:27:58.595443Z",
     "iopub.status.busy": "2023-09-03T15:27:58.594403Z",
     "iopub.status.idle": "2023-09-03T15:27:58.628233Z",
     "shell.execute_reply": "2023-09-03T15:27:58.627073Z"
    },
    "papermill": {
     "duration": 0.070982,
     "end_time": "2023-09-03T15:27:58.630714",
     "exception": false,
     "start_time": "2023-09-03T15:27:58.559732",
     "status": "completed"
    },
    "tags": []
   },
   "outputs": [
    {
     "data": {
      "text/html": [
       "<div>\n",
       "<style scoped>\n",
       "    .dataframe tbody tr th:only-of-type {\n",
       "        vertical-align: middle;\n",
       "    }\n",
       "\n",
       "    .dataframe tbody tr th {\n",
       "        vertical-align: top;\n",
       "    }\n",
       "\n",
       "    .dataframe thead th {\n",
       "        text-align: right;\n",
       "    }\n",
       "</style>\n",
       "<table border=\"1\" class=\"dataframe\">\n",
       "  <thead>\n",
       "    <tr style=\"text-align: right;\">\n",
       "      <th></th>\n",
       "      <th></th>\n",
       "      <th>#</th>\n",
       "    </tr>\n",
       "    <tr>\n",
       "      <th>claim_status</th>\n",
       "      <th>author_ban_status</th>\n",
       "      <th></th>\n",
       "    </tr>\n",
       "  </thead>\n",
       "  <tbody>\n",
       "    <tr>\n",
       "      <th rowspan=\"3\" valign=\"top\">claim</th>\n",
       "      <th>active</th>\n",
       "      <td>6566</td>\n",
       "    </tr>\n",
       "    <tr>\n",
       "      <th>banned</th>\n",
       "      <td>1439</td>\n",
       "    </tr>\n",
       "    <tr>\n",
       "      <th>under review</th>\n",
       "      <td>1603</td>\n",
       "    </tr>\n",
       "    <tr>\n",
       "      <th rowspan=\"3\" valign=\"top\">opinion</th>\n",
       "      <th>active</th>\n",
       "      <td>8817</td>\n",
       "    </tr>\n",
       "    <tr>\n",
       "      <th>banned</th>\n",
       "      <td>196</td>\n",
       "    </tr>\n",
       "    <tr>\n",
       "      <th>under review</th>\n",
       "      <td>463</td>\n",
       "    </tr>\n",
       "  </tbody>\n",
       "</table>\n",
       "</div>"
      ],
      "text/plain": [
       "                                   #\n",
       "claim_status author_ban_status      \n",
       "claim        active             6566\n",
       "             banned             1439\n",
       "             under review       1603\n",
       "opinion      active             8817\n",
       "             banned              196\n",
       "             under review        463"
      ]
     },
     "execution_count": 25,
     "metadata": {},
     "output_type": "execute_result"
    }
   ],
   "source": [
    "data.groupby(['claim_status','author_ban_status']).count()[['#']]"
   ]
  },
  {
   "cell_type": "markdown",
   "id": "3dac5c60",
   "metadata": {
    "papermill": {
     "duration": 0.032863,
     "end_time": "2023-09-03T15:27:58.696860",
     "exception": false,
     "start_time": "2023-09-03T15:27:58.663997",
     "status": "completed"
    },
    "tags": []
   },
   "source": [
    "*There are more claim videos with bannd authors as compared to opinion vidoes , this could result in following reponsibilities *\n",
    "* Claim videos are strickly policed than opinion videos\n",
    "* Authors must comply with stricker rules if the post claim videos \n",
    "\n",
    "*Also it should be noted that there's no way of konowing that author is banned due to uploadind of opinion  or calim video *"
   ]
  },
  {
   "cell_type": "code",
   "execution_count": 26,
   "id": "67cc4e92",
   "metadata": {
    "execution": {
     "iopub.execute_input": "2023-09-03T15:27:58.765614Z",
     "iopub.status.busy": "2023-09-03T15:27:58.764788Z",
     "iopub.status.idle": "2023-09-03T15:27:58.797472Z",
     "shell.execute_reply": "2023-09-03T15:27:58.796185Z"
    },
    "papermill": {
     "duration": 0.069987,
     "end_time": "2023-09-03T15:27:58.799868",
     "exception": false,
     "start_time": "2023-09-03T15:27:58.729881",
     "status": "completed"
    },
    "tags": []
   },
   "outputs": [
    {
     "data": {
      "text/html": [
       "<div>\n",
       "<style scoped>\n",
       "    .dataframe tbody tr th:only-of-type {\n",
       "        vertical-align: middle;\n",
       "    }\n",
       "\n",
       "    .dataframe tbody tr th {\n",
       "        vertical-align: top;\n",
       "    }\n",
       "\n",
       "    .dataframe thead tr th {\n",
       "        text-align: left;\n",
       "    }\n",
       "\n",
       "    .dataframe thead tr:last-of-type th {\n",
       "        text-align: right;\n",
       "    }\n",
       "</style>\n",
       "<table border=\"1\" class=\"dataframe\">\n",
       "  <thead>\n",
       "    <tr>\n",
       "      <th></th>\n",
       "      <th colspan=\"3\" halign=\"left\">video_view_count</th>\n",
       "      <th colspan=\"3\" halign=\"left\">video_like_count</th>\n",
       "      <th colspan=\"3\" halign=\"left\">video_share_count</th>\n",
       "    </tr>\n",
       "    <tr>\n",
       "      <th></th>\n",
       "      <th>mean</th>\n",
       "      <th>median</th>\n",
       "      <th>count</th>\n",
       "      <th>mean</th>\n",
       "      <th>median</th>\n",
       "      <th>count</th>\n",
       "      <th>mean</th>\n",
       "      <th>median</th>\n",
       "      <th>count</th>\n",
       "    </tr>\n",
       "    <tr>\n",
       "      <th>author_ban_status</th>\n",
       "      <th></th>\n",
       "      <th></th>\n",
       "      <th></th>\n",
       "      <th></th>\n",
       "      <th></th>\n",
       "      <th></th>\n",
       "      <th></th>\n",
       "      <th></th>\n",
       "      <th></th>\n",
       "    </tr>\n",
       "  </thead>\n",
       "  <tbody>\n",
       "    <tr>\n",
       "      <th>active</th>\n",
       "      <td>215927.039524</td>\n",
       "      <td>8616.0</td>\n",
       "      <td>15383</td>\n",
       "      <td>71036.533836</td>\n",
       "      <td>2222.0</td>\n",
       "      <td>15383</td>\n",
       "      <td>14111.466164</td>\n",
       "      <td>437.0</td>\n",
       "      <td>15383</td>\n",
       "    </tr>\n",
       "    <tr>\n",
       "      <th>banned</th>\n",
       "      <td>445845.439144</td>\n",
       "      <td>448201.0</td>\n",
       "      <td>1635</td>\n",
       "      <td>153017.236697</td>\n",
       "      <td>105573.0</td>\n",
       "      <td>1635</td>\n",
       "      <td>29998.942508</td>\n",
       "      <td>14468.0</td>\n",
       "      <td>1635</td>\n",
       "    </tr>\n",
       "    <tr>\n",
       "      <th>under review</th>\n",
       "      <td>392204.836399</td>\n",
       "      <td>365245.5</td>\n",
       "      <td>2066</td>\n",
       "      <td>128718.050339</td>\n",
       "      <td>71204.5</td>\n",
       "      <td>2066</td>\n",
       "      <td>25774.696999</td>\n",
       "      <td>9444.0</td>\n",
       "      <td>2066</td>\n",
       "    </tr>\n",
       "  </tbody>\n",
       "</table>\n",
       "</div>"
      ],
      "text/plain": [
       "                  video_view_count                  video_like_count  \\\n",
       "                              mean    median  count             mean   \n",
       "author_ban_status                                                      \n",
       "active               215927.039524    8616.0  15383     71036.533836   \n",
       "banned               445845.439144  448201.0   1635    153017.236697   \n",
       "under review         392204.836399  365245.5   2066    128718.050339   \n",
       "\n",
       "                                   video_share_count                  \n",
       "                     median  count              mean   median  count  \n",
       "author_ban_status                                                     \n",
       "active               2222.0  15383      14111.466164    437.0  15383  \n",
       "banned             105573.0   1635      29998.942508  14468.0   1635  \n",
       "under review        71204.5   2066      25774.696999   9444.0   2066  "
      ]
     },
     "execution_count": 26,
     "metadata": {},
     "output_type": "execute_result"
    }
   ],
   "source": [
    "data.groupby(['author_ban_status']).agg({'video_view_count': ['mean','median','count'], 'video_like_count':['mean','median','count'],\\\n",
    "                                        'video_share_count':['mean','median','count']})"
   ]
  },
  {
   "cell_type": "markdown",
   "id": "394b521a",
   "metadata": {
    "papermill": {
     "duration": 0.033585,
     "end_time": "2023-09-03T15:27:58.866596",
     "exception": false,
     "start_time": "2023-09-03T15:27:58.833011",
     "status": "completed"
    },
    "tags": []
   },
   "source": [
    "*banned authors have median share count 33 times the mdian video share of active author*\n",
    "\n",
    "*Banned authos and under review get more likes *"
   ]
  },
  {
   "cell_type": "code",
   "execution_count": 27,
   "id": "3c478f08",
   "metadata": {
    "execution": {
     "iopub.execute_input": "2023-09-03T15:27:58.935973Z",
     "iopub.status.busy": "2023-09-03T15:27:58.935178Z",
     "iopub.status.idle": "2023-09-03T15:27:58.943509Z",
     "shell.execute_reply": "2023-09-03T15:27:58.942680Z"
    },
    "papermill": {
     "duration": 0.045912,
     "end_time": "2023-09-03T15:27:58.945867",
     "exception": false,
     "start_time": "2023-09-03T15:27:58.899955",
     "status": "completed"
    },
    "tags": []
   },
   "outputs": [],
   "source": [
    "data['likes_per_view']=data['video_like_count']/data['video_view_count']\n",
    "data['comments_per_view']=data['video_comment_count']/data['video_view_count']\n",
    "data['shares_per_view']=data['video_share_count']/data['video_view_count']"
   ]
  },
  {
   "cell_type": "code",
   "execution_count": 28,
   "id": "5a824e77",
   "metadata": {
    "execution": {
     "iopub.execute_input": "2023-09-03T15:27:59.014979Z",
     "iopub.status.busy": "2023-09-03T15:27:59.014177Z",
     "iopub.status.idle": "2023-09-03T15:27:59.047208Z",
     "shell.execute_reply": "2023-09-03T15:27:59.045942Z"
    },
    "papermill": {
     "duration": 0.070523,
     "end_time": "2023-09-03T15:27:59.049746",
     "exception": false,
     "start_time": "2023-09-03T15:27:58.979223",
     "status": "completed"
    },
    "tags": []
   },
   "outputs": [
    {
     "data": {
      "text/html": [
       "<div>\n",
       "<style scoped>\n",
       "    .dataframe tbody tr th:only-of-type {\n",
       "        vertical-align: middle;\n",
       "    }\n",
       "\n",
       "    .dataframe tbody tr th {\n",
       "        vertical-align: top;\n",
       "    }\n",
       "\n",
       "    .dataframe thead tr th {\n",
       "        text-align: left;\n",
       "    }\n",
       "\n",
       "    .dataframe thead tr:last-of-type th {\n",
       "        text-align: right;\n",
       "    }\n",
       "</style>\n",
       "<table border=\"1\" class=\"dataframe\">\n",
       "  <thead>\n",
       "    <tr>\n",
       "      <th></th>\n",
       "      <th></th>\n",
       "      <th colspan=\"3\" halign=\"left\">likes_per_view</th>\n",
       "      <th colspan=\"3\" halign=\"left\">comments_per_view</th>\n",
       "      <th colspan=\"3\" halign=\"left\">shares_per_view</th>\n",
       "    </tr>\n",
       "    <tr>\n",
       "      <th></th>\n",
       "      <th></th>\n",
       "      <th>median</th>\n",
       "      <th>mean</th>\n",
       "      <th>count</th>\n",
       "      <th>median</th>\n",
       "      <th>mean</th>\n",
       "      <th>count</th>\n",
       "      <th>median</th>\n",
       "      <th>mean</th>\n",
       "      <th>count</th>\n",
       "    </tr>\n",
       "    <tr>\n",
       "      <th>claim_status</th>\n",
       "      <th>author_ban_status</th>\n",
       "      <th></th>\n",
       "      <th></th>\n",
       "      <th></th>\n",
       "      <th></th>\n",
       "      <th></th>\n",
       "      <th></th>\n",
       "      <th></th>\n",
       "      <th></th>\n",
       "      <th></th>\n",
       "    </tr>\n",
       "  </thead>\n",
       "  <tbody>\n",
       "    <tr>\n",
       "      <th rowspan=\"3\" valign=\"top\">claim</th>\n",
       "      <th>active</th>\n",
       "      <td>0.326538</td>\n",
       "      <td>0.329542</td>\n",
       "      <td>6566</td>\n",
       "      <td>0.000776</td>\n",
       "      <td>0.001393</td>\n",
       "      <td>6566</td>\n",
       "      <td>0.049279</td>\n",
       "      <td>0.065456</td>\n",
       "      <td>6566</td>\n",
       "    </tr>\n",
       "    <tr>\n",
       "      <th>banned</th>\n",
       "      <td>0.358909</td>\n",
       "      <td>0.345071</td>\n",
       "      <td>1439</td>\n",
       "      <td>0.000746</td>\n",
       "      <td>0.001377</td>\n",
       "      <td>1439</td>\n",
       "      <td>0.051606</td>\n",
       "      <td>0.067893</td>\n",
       "      <td>1439</td>\n",
       "    </tr>\n",
       "    <tr>\n",
       "      <th>under review</th>\n",
       "      <td>0.320867</td>\n",
       "      <td>0.327997</td>\n",
       "      <td>1603</td>\n",
       "      <td>0.000789</td>\n",
       "      <td>0.001367</td>\n",
       "      <td>1603</td>\n",
       "      <td>0.049967</td>\n",
       "      <td>0.065733</td>\n",
       "      <td>1603</td>\n",
       "    </tr>\n",
       "    <tr>\n",
       "      <th rowspan=\"3\" valign=\"top\">opinion</th>\n",
       "      <th>active</th>\n",
       "      <td>0.218330</td>\n",
       "      <td>0.219744</td>\n",
       "      <td>8817</td>\n",
       "      <td>0.000252</td>\n",
       "      <td>0.000517</td>\n",
       "      <td>8817</td>\n",
       "      <td>0.032405</td>\n",
       "      <td>0.043729</td>\n",
       "      <td>8817</td>\n",
       "    </tr>\n",
       "    <tr>\n",
       "      <th>banned</th>\n",
       "      <td>0.198483</td>\n",
       "      <td>0.206868</td>\n",
       "      <td>196</td>\n",
       "      <td>0.000193</td>\n",
       "      <td>0.000434</td>\n",
       "      <td>196</td>\n",
       "      <td>0.030728</td>\n",
       "      <td>0.040531</td>\n",
       "      <td>196</td>\n",
       "    </tr>\n",
       "    <tr>\n",
       "      <th>under review</th>\n",
       "      <td>0.228051</td>\n",
       "      <td>0.226394</td>\n",
       "      <td>463</td>\n",
       "      <td>0.000293</td>\n",
       "      <td>0.000536</td>\n",
       "      <td>463</td>\n",
       "      <td>0.035027</td>\n",
       "      <td>0.044472</td>\n",
       "      <td>463</td>\n",
       "    </tr>\n",
       "  </tbody>\n",
       "</table>\n",
       "</div>"
      ],
      "text/plain": [
       "                               likes_per_view                  \\\n",
       "                                       median      mean count   \n",
       "claim_status author_ban_status                                  \n",
       "claim        active                  0.326538  0.329542  6566   \n",
       "             banned                  0.358909  0.345071  1439   \n",
       "             under review            0.320867  0.327997  1603   \n",
       "opinion      active                  0.218330  0.219744  8817   \n",
       "             banned                  0.198483  0.206868   196   \n",
       "             under review            0.228051  0.226394   463   \n",
       "\n",
       "                               comments_per_view                  \\\n",
       "                                          median      mean count   \n",
       "claim_status author_ban_status                                     \n",
       "claim        active                     0.000776  0.001393  6566   \n",
       "             banned                     0.000746  0.001377  1439   \n",
       "             under review               0.000789  0.001367  1603   \n",
       "opinion      active                     0.000252  0.000517  8817   \n",
       "             banned                     0.000193  0.000434   196   \n",
       "             under review               0.000293  0.000536   463   \n",
       "\n",
       "                               shares_per_view                  \n",
       "                                        median      mean count  \n",
       "claim_status author_ban_status                                  \n",
       "claim        active                   0.049279  0.065456  6566  \n",
       "             banned                   0.051606  0.067893  1439  \n",
       "             under review             0.049967  0.065733  1603  \n",
       "opinion      active                   0.032405  0.043729  8817  \n",
       "             banned                   0.030728  0.040531   196  \n",
       "             under review             0.035027  0.044472   463  "
      ]
     },
     "execution_count": 28,
     "metadata": {},
     "output_type": "execute_result"
    }
   ],
   "source": [
    "data.groupby(['claim_status','author_ban_status']).agg({'likes_per_view':['median','mean','count'],\\\n",
    "                                                       'comments_per_view':['median','mean','count'],\\\n",
    "                                                       'shares_per_view':['median','mean','count']})"
   ]
  },
  {
   "cell_type": "markdown",
   "id": "af060311",
   "metadata": {
    "papermill": {
     "duration": 0.033101,
     "end_time": "2023-09-03T15:27:59.116902",
     "exception": false,
     "start_time": "2023-09-03T15:27:59.083801",
     "status": "completed"
    },
    "tags": []
   },
   "source": [
    "* *In case of claim banned and under review authos tend to get more likes and share*\n",
    "* *and for opnion active and under review get higher engagement*"
   ]
  },
  {
   "cell_type": "markdown",
   "id": "2209079e",
   "metadata": {
    "papermill": {
     "duration": 0.033081,
     "end_time": "2023-09-03T15:27:59.183743",
     "exception": false,
     "start_time": "2023-09-03T15:27:59.150662",
     "status": "completed"
    },
    "tags": []
   },
   "source": [
    "**Engagement level is strongly correlated with claim staus , Videos with banned authors have significantly higher engagement than videos with active authors**"
   ]
  },
  {
   "cell_type": "markdown",
   "id": "c1eeb829",
   "metadata": {
    "papermill": {
     "duration": 0.033419,
     "end_time": "2023-09-03T15:27:59.250642",
     "exception": false,
     "start_time": "2023-09-03T15:27:59.217223",
     "status": "completed"
    },
    "tags": []
   },
   "source": [
    "# Hypothesis Test"
   ]
  },
  {
   "cell_type": "markdown",
   "id": "1d29d903",
   "metadata": {
    "papermill": {
     "duration": 0.033763,
     "end_time": "2023-09-03T15:27:59.317898",
     "exception": false,
     "start_time": "2023-09-03T15:27:59.284135",
     "status": "completed"
    },
    "tags": []
   },
   "source": [
    "**Relationship between video_ciew_count and verified status**"
   ]
  },
  {
   "cell_type": "code",
   "execution_count": 29,
   "id": "300165e1",
   "metadata": {
    "execution": {
     "iopub.execute_input": "2023-09-03T15:27:59.388222Z",
     "iopub.status.busy": "2023-09-03T15:27:59.387388Z",
     "iopub.status.idle": "2023-09-03T15:27:59.392507Z",
     "shell.execute_reply": "2023-09-03T15:27:59.391682Z"
    },
    "papermill": {
     "duration": 0.042955,
     "end_time": "2023-09-03T15:27:59.394797",
     "exception": false,
     "start_time": "2023-09-03T15:27:59.351842",
     "status": "completed"
    },
    "tags": []
   },
   "outputs": [],
   "source": [
    "#Import libraries for statistical / hypothesis test\n",
    "\n",
    "from scipy import stats"
   ]
  },
  {
   "cell_type": "code",
   "execution_count": 30,
   "id": "67d09c39",
   "metadata": {
    "execution": {
     "iopub.execute_input": "2023-09-03T15:27:59.465174Z",
     "iopub.status.busy": "2023-09-03T15:27:59.464365Z",
     "iopub.status.idle": "2023-09-03T15:27:59.476332Z",
     "shell.execute_reply": "2023-09-03T15:27:59.475115Z"
    },
    "papermill": {
     "duration": 0.049821,
     "end_time": "2023-09-03T15:27:59.478634",
     "exception": false,
     "start_time": "2023-09-03T15:27:59.428813",
     "status": "completed"
    },
    "tags": []
   },
   "outputs": [
    {
     "data": {
      "text/plain": [
       "verified_status\n",
       "not verified    265663.785339\n",
       "verified         91439.164167\n",
       "Name: video_view_count, dtype: float64"
      ]
     },
     "execution_count": 30,
     "metadata": {},
     "output_type": "execute_result"
    }
   ],
   "source": [
    "data.groupby(['verified_status'])['video_view_count'].mean()"
   ]
  },
  {
   "cell_type": "markdown",
   "id": "b0d291aa",
   "metadata": {
    "papermill": {
     "duration": 0.03378,
     "end_time": "2023-09-03T15:27:59.547847",
     "exception": false,
     "start_time": "2023-09-03T15:27:59.514067",
     "status": "completed"
    },
    "tags": []
   },
   "source": [
    "**NULL HYPOTHESIS :** *there is no difference in number of views posted by veified and unverified account on TikTok videos*\n",
    "\n",
    "**Alternative HYPOTHESIS :** *There is a difference*"
   ]
  },
  {
   "cell_type": "code",
   "execution_count": 31,
   "id": "372550bd",
   "metadata": {
    "execution": {
     "iopub.execute_input": "2023-09-03T15:27:59.618611Z",
     "iopub.status.busy": "2023-09-03T15:27:59.617767Z",
     "iopub.status.idle": "2023-09-03T15:27:59.642043Z",
     "shell.execute_reply": "2023-09-03T15:27:59.641206Z"
    },
    "papermill": {
     "duration": 0.062338,
     "end_time": "2023-09-03T15:27:59.644280",
     "exception": false,
     "start_time": "2023-09-03T15:27:59.581942",
     "status": "completed"
    },
    "tags": []
   },
   "outputs": [
    {
     "data": {
      "text/plain": [
       "Ttest_indResult(statistic=25.499441780633777, pvalue=2.6088823687177823e-120)"
      ]
     },
     "execution_count": 31,
     "metadata": {},
     "output_type": "execute_result"
    }
   ],
   "source": [
    "# Significance level 5%\n",
    "\n",
    "not_verified = data[data['verified_status']=='not verified']['video_view_count']\n",
    "verified =data[data['verified_status']=='verified']['video_view_count']\n",
    "\n",
    "# two sample t-test\n",
    "stats.ttest_ind(a=not_verified , b=verified , equal_var = False)"
   ]
  },
  {
   "cell_type": "code",
   "execution_count": null,
   "id": "1d77902c",
   "metadata": {
    "papermill": {
     "duration": 0.034152,
     "end_time": "2023-09-03T15:27:59.712162",
     "exception": false,
     "start_time": "2023-09-03T15:27:59.678010",
     "status": "completed"
    },
    "tags": []
   },
   "outputs": [],
   "source": []
  },
  {
   "cell_type": "markdown",
   "id": "95dcbcfd",
   "metadata": {
    "papermill": {
     "duration": 0.03363,
     "end_time": "2023-09-03T15:27:59.779866",
     "exception": false,
     "start_time": "2023-09-03T15:27:59.746236",
     "status": "completed"
    },
    "tags": []
   },
   "source": [
    "*Since the p-value is significantly small , null hypothesis is rejected*"
   ]
  },
  {
   "cell_type": "markdown",
   "id": "4276caa9",
   "metadata": {
    "papermill": {
     "duration": 0.033774,
     "end_time": "2023-09-03T15:27:59.847649",
     "exception": false,
     "start_time": "2023-09-03T15:27:59.813875",
     "status": "completed"
    },
    "tags": []
   },
   "source": [
    "# Handling Outliers"
   ]
  },
  {
   "cell_type": "code",
   "execution_count": 32,
   "id": "aa588384",
   "metadata": {
    "execution": {
     "iopub.execute_input": "2023-09-03T15:27:59.917721Z",
     "iopub.status.busy": "2023-09-03T15:27:59.917303Z",
     "iopub.status.idle": "2023-09-03T15:27:59.924520Z",
     "shell.execute_reply": "2023-09-03T15:27:59.923300Z"
    },
    "papermill": {
     "duration": 0.045212,
     "end_time": "2023-09-03T15:27:59.926844",
     "exception": false,
     "start_time": "2023-09-03T15:27:59.881632",
     "status": "completed"
    },
    "tags": []
   },
   "outputs": [],
   "source": [
    "def handle_outlier(column_str):\n",
    "    Q1 = data[column_str].quantile(0.25)\n",
    "    Q3 = data[column_str].quantile(0.75)\n",
    "    IQR = Q3-Q1\n",
    "    upper_limit = Q3 + 1.5 * IQR\n",
    "    data.loc[data[column_str]> upper_limit , column_str ]= upper_limit\n",
    "#     print (upper_limit)\n",
    "    return (upper_limit)"
   ]
  },
  {
   "cell_type": "code",
   "execution_count": 33,
   "id": "c9774b00",
   "metadata": {
    "execution": {
     "iopub.execute_input": "2023-09-03T15:27:59.997762Z",
     "iopub.status.busy": "2023-09-03T15:27:59.996742Z",
     "iopub.status.idle": "2023-09-03T15:28:00.006725Z",
     "shell.execute_reply": "2023-09-03T15:28:00.005770Z"
    },
    "papermill": {
     "duration": 0.047649,
     "end_time": "2023-09-03T15:28:00.009135",
     "exception": false,
     "start_time": "2023-09-03T15:27:59.961486",
     "status": "completed"
    },
    "tags": []
   },
   "outputs": [],
   "source": [
    "Q1 = data['video_like_count'].quantile(0.25)\n",
    "Q3 = data['video_like_count'].quantile(0.75)\n",
    "IQR = Q3-Q1\n",
    "upper_limit = Q3 + 1.5 * IQR\n",
    "data.loc[data['video_like_count']> upper_limit , 'video_like_count' ]= upper_limit"
   ]
  },
  {
   "cell_type": "code",
   "execution_count": 34,
   "id": "1f921a1d",
   "metadata": {
    "execution": {
     "iopub.execute_input": "2023-09-03T15:28:00.079036Z",
     "iopub.status.busy": "2023-09-03T15:28:00.078633Z",
     "iopub.status.idle": "2023-09-03T15:28:00.089221Z",
     "shell.execute_reply": "2023-09-03T15:28:00.088158Z"
    },
    "papermill": {
     "duration": 0.048217,
     "end_time": "2023-09-03T15:28:00.091444",
     "exception": false,
     "start_time": "2023-09-03T15:28:00.043227",
     "status": "completed"
    },
    "tags": []
   },
   "outputs": [
    {
     "data": {
      "text/plain": [
       "311333.875"
      ]
     },
     "execution_count": 34,
     "metadata": {},
     "output_type": "execute_result"
    }
   ],
   "source": [
    "handle_outlier('video_like_count')"
   ]
  },
  {
   "cell_type": "code",
   "execution_count": 35,
   "id": "160906c1",
   "metadata": {
    "execution": {
     "iopub.execute_input": "2023-09-03T15:28:00.162172Z",
     "iopub.status.busy": "2023-09-03T15:28:00.161747Z",
     "iopub.status.idle": "2023-09-03T15:28:00.172298Z",
     "shell.execute_reply": "2023-09-03T15:28:00.171213Z"
    },
    "papermill": {
     "duration": 0.048286,
     "end_time": "2023-09-03T15:28:00.174328",
     "exception": false,
     "start_time": "2023-09-03T15:28:00.126042",
     "status": "completed"
    },
    "tags": []
   },
   "outputs": [
    {
     "data": {
      "text/plain": [
       "728.5"
      ]
     },
     "execution_count": 35,
     "metadata": {},
     "output_type": "execute_result"
    }
   ],
   "source": [
    "handle_outlier('video_comment_count')"
   ]
  },
  {
   "cell_type": "markdown",
   "id": "f4301bd9",
   "metadata": {
    "papermill": {
     "duration": 0.034079,
     "end_time": "2023-09-03T15:28:00.242872",
     "exception": false,
     "start_time": "2023-09-03T15:28:00.208793",
     "status": "completed"
    },
    "tags": []
   },
   "source": [
    "**Class Balance**"
   ]
  },
  {
   "cell_type": "code",
   "execution_count": 36,
   "id": "0e5938a0",
   "metadata": {
    "execution": {
     "iopub.execute_input": "2023-09-03T15:28:00.313508Z",
     "iopub.status.busy": "2023-09-03T15:28:00.313090Z",
     "iopub.status.idle": "2023-09-03T15:28:00.324825Z",
     "shell.execute_reply": "2023-09-03T15:28:00.323532Z"
    },
    "papermill": {
     "duration": 0.049799,
     "end_time": "2023-09-03T15:28:00.326973",
     "exception": false,
     "start_time": "2023-09-03T15:28:00.277174",
     "status": "completed"
    },
    "tags": []
   },
   "outputs": [
    {
     "data": {
      "text/plain": [
       "not verified    0.93712\n",
       "verified        0.06288\n",
       "Name: verified_status, dtype: float64"
      ]
     },
     "execution_count": 36,
     "metadata": {},
     "output_type": "execute_result"
    }
   ],
   "source": [
    "data['verified_status'].value_counts(normalize=True)"
   ]
  },
  {
   "cell_type": "markdown",
   "id": "e770418e",
   "metadata": {
    "papermill": {
     "duration": 0.034291,
     "end_time": "2023-09-03T15:28:00.395725",
     "exception": false,
     "start_time": "2023-09-03T15:28:00.361434",
     "status": "completed"
    },
    "tags": []
   },
   "source": [
    "*Aprximately 94 % of thr dataset represents vodeos posted by unverified accounts anf and 5.8% represents videos posted by verified accounts hence we can conclude that the outcome variable is not balanced*"
   ]
  },
  {
   "cell_type": "code",
   "execution_count": 37,
   "id": "8029e87d",
   "metadata": {
    "execution": {
     "iopub.execute_input": "2023-09-03T15:28:00.466570Z",
     "iopub.status.busy": "2023-09-03T15:28:00.466128Z",
     "iopub.status.idle": "2023-09-03T15:28:00.522062Z",
     "shell.execute_reply": "2023-09-03T15:28:00.520614Z"
    },
    "papermill": {
     "duration": 0.094009,
     "end_time": "2023-09-03T15:28:00.524464",
     "exception": false,
     "start_time": "2023-09-03T15:28:00.430455",
     "status": "completed"
    },
    "tags": []
   },
   "outputs": [
    {
     "data": {
      "text/plain": [
       "not verified    17884\n",
       "verified        17884\n",
       "Name: verified_status, dtype: int64"
      ]
     },
     "execution_count": 37,
     "metadata": {},
     "output_type": "execute_result"
    }
   ],
   "source": [
    "data_majority = data[data['verified_status']=='not verified']\n",
    "data_minority = data[data['verified_status']=='verified']\n",
    "\n",
    "#Upsample the minority class i-e 'verified'\n",
    "\n",
    "data_minority_upsample = resample(data_minority , replace=True , n_samples=len(data_majority),\\\n",
    "                                 random_state=0)\n",
    "\n",
    "#Combine majority with minority \n",
    "data_upsampled = pd.concat([data_majority , data_minority_upsample]).reset_index(drop=True)\n",
    "\n",
    "data_upsampled['verified_status'].value_counts()"
   ]
  },
  {
   "cell_type": "code",
   "execution_count": 38,
   "id": "9abb3333",
   "metadata": {
    "execution": {
     "iopub.execute_input": "2023-09-03T15:28:00.596304Z",
     "iopub.status.busy": "2023-09-03T15:28:00.595886Z",
     "iopub.status.idle": "2023-09-03T15:28:00.626760Z",
     "shell.execute_reply": "2023-09-03T15:28:00.625648Z"
    },
    "papermill": {
     "duration": 0.069706,
     "end_time": "2023-09-03T15:28:00.629332",
     "exception": false,
     "start_time": "2023-09-03T15:28:00.559626",
     "status": "completed"
    },
    "tags": []
   },
   "outputs": [
    {
     "data": {
      "text/plain": [
       "verified_status\n",
       "not verified    89.401141\n",
       "verified        84.569559\n",
       "Name: video_transcription_text, dtype: float64"
      ]
     },
     "execution_count": 38,
     "metadata": {},
     "output_type": "execute_result"
    }
   ],
   "source": [
    "# Find the average'video _transcription_text' for verified and unverified account repectively\n",
    "\n",
    "data_upsampled.groupby('verified_status')['video_transcription_text'].agg(func= lambda array : np.mean([len(text) for text in array]))"
   ]
  },
  {
   "cell_type": "code",
   "execution_count": 39,
   "id": "3d5531c4",
   "metadata": {
    "execution": {
     "iopub.execute_input": "2023-09-03T15:28:00.702559Z",
     "iopub.status.busy": "2023-09-03T15:28:00.702182Z",
     "iopub.status.idle": "2023-09-03T15:28:00.734524Z",
     "shell.execute_reply": "2023-09-03T15:28:00.733592Z"
    },
    "papermill": {
     "duration": 0.07194,
     "end_time": "2023-09-03T15:28:00.737084",
     "exception": false,
     "start_time": "2023-09-03T15:28:00.665144",
     "status": "completed"
    },
    "tags": []
   },
   "outputs": [],
   "source": [
    "data_upsampled['text_length'] = data_upsampled['video_transcription_text'].apply(func=lambda text : len(text))"
   ]
  },
  {
   "cell_type": "code",
   "execution_count": 40,
   "id": "fc584a51",
   "metadata": {
    "execution": {
     "iopub.execute_input": "2023-09-03T15:28:00.809383Z",
     "iopub.status.busy": "2023-09-03T15:28:00.808911Z",
     "iopub.status.idle": "2023-09-03T15:28:00.834335Z",
     "shell.execute_reply": "2023-09-03T15:28:00.833199Z"
    },
    "papermill": {
     "duration": 0.06442,
     "end_time": "2023-09-03T15:28:00.836663",
     "exception": false,
     "start_time": "2023-09-03T15:28:00.772243",
     "status": "completed"
    },
    "tags": []
   },
   "outputs": [
    {
     "data": {
      "text/html": [
       "<div>\n",
       "<style scoped>\n",
       "    .dataframe tbody tr th:only-of-type {\n",
       "        vertical-align: middle;\n",
       "    }\n",
       "\n",
       "    .dataframe tbody tr th {\n",
       "        vertical-align: top;\n",
       "    }\n",
       "\n",
       "    .dataframe thead th {\n",
       "        text-align: right;\n",
       "    }\n",
       "</style>\n",
       "<table border=\"1\" class=\"dataframe\">\n",
       "  <thead>\n",
       "    <tr style=\"text-align: right;\">\n",
       "      <th></th>\n",
       "      <th>#</th>\n",
       "      <th>claim_status</th>\n",
       "      <th>video_id</th>\n",
       "      <th>video_duration_sec</th>\n",
       "      <th>video_transcription_text</th>\n",
       "      <th>verified_status</th>\n",
       "      <th>author_ban_status</th>\n",
       "      <th>video_view_count</th>\n",
       "      <th>video_like_count</th>\n",
       "      <th>video_share_count</th>\n",
       "      <th>video_download_count</th>\n",
       "      <th>video_comment_count</th>\n",
       "      <th>likes_per_view</th>\n",
       "      <th>comments_per_view</th>\n",
       "      <th>shares_per_view</th>\n",
       "      <th>text_length</th>\n",
       "    </tr>\n",
       "  </thead>\n",
       "  <tbody>\n",
       "    <tr>\n",
       "      <th>0</th>\n",
       "      <td>1</td>\n",
       "      <td>claim</td>\n",
       "      <td>7017666017</td>\n",
       "      <td>59</td>\n",
       "      <td>someone shared with me that drone deliveries a...</td>\n",
       "      <td>not verified</td>\n",
       "      <td>under review</td>\n",
       "      <td>343296.0</td>\n",
       "      <td>19425.0</td>\n",
       "      <td>241.0</td>\n",
       "      <td>1.0</td>\n",
       "      <td>0.0</td>\n",
       "      <td>0.056584</td>\n",
       "      <td>0.000000</td>\n",
       "      <td>0.000702</td>\n",
       "      <td>97</td>\n",
       "    </tr>\n",
       "    <tr>\n",
       "      <th>1</th>\n",
       "      <td>2</td>\n",
       "      <td>claim</td>\n",
       "      <td>4014381136</td>\n",
       "      <td>32</td>\n",
       "      <td>someone shared with me that there are more mic...</td>\n",
       "      <td>not verified</td>\n",
       "      <td>active</td>\n",
       "      <td>140877.0</td>\n",
       "      <td>77355.0</td>\n",
       "      <td>19034.0</td>\n",
       "      <td>1161.0</td>\n",
       "      <td>684.0</td>\n",
       "      <td>0.549096</td>\n",
       "      <td>0.004855</td>\n",
       "      <td>0.135111</td>\n",
       "      <td>107</td>\n",
       "    </tr>\n",
       "    <tr>\n",
       "      <th>2</th>\n",
       "      <td>3</td>\n",
       "      <td>claim</td>\n",
       "      <td>9859838091</td>\n",
       "      <td>31</td>\n",
       "      <td>someone shared with me that american industria...</td>\n",
       "      <td>not verified</td>\n",
       "      <td>active</td>\n",
       "      <td>902185.0</td>\n",
       "      <td>97690.0</td>\n",
       "      <td>2858.0</td>\n",
       "      <td>833.0</td>\n",
       "      <td>329.0</td>\n",
       "      <td>0.108282</td>\n",
       "      <td>0.000365</td>\n",
       "      <td>0.003168</td>\n",
       "      <td>137</td>\n",
       "    </tr>\n",
       "    <tr>\n",
       "      <th>3</th>\n",
       "      <td>4</td>\n",
       "      <td>claim</td>\n",
       "      <td>1866847991</td>\n",
       "      <td>25</td>\n",
       "      <td>someone shared with me that the metro of st. p...</td>\n",
       "      <td>not verified</td>\n",
       "      <td>active</td>\n",
       "      <td>437506.0</td>\n",
       "      <td>239954.0</td>\n",
       "      <td>34812.0</td>\n",
       "      <td>1234.0</td>\n",
       "      <td>584.0</td>\n",
       "      <td>0.548459</td>\n",
       "      <td>0.001335</td>\n",
       "      <td>0.079569</td>\n",
       "      <td>131</td>\n",
       "    </tr>\n",
       "    <tr>\n",
       "      <th>4</th>\n",
       "      <td>5</td>\n",
       "      <td>claim</td>\n",
       "      <td>7105231098</td>\n",
       "      <td>19</td>\n",
       "      <td>someone shared with me that the number of busi...</td>\n",
       "      <td>not verified</td>\n",
       "      <td>active</td>\n",
       "      <td>56167.0</td>\n",
       "      <td>34987.0</td>\n",
       "      <td>4110.0</td>\n",
       "      <td>547.0</td>\n",
       "      <td>152.0</td>\n",
       "      <td>0.622910</td>\n",
       "      <td>0.002706</td>\n",
       "      <td>0.073175</td>\n",
       "      <td>128</td>\n",
       "    </tr>\n",
       "  </tbody>\n",
       "</table>\n",
       "</div>"
      ],
      "text/plain": [
       "   # claim_status    video_id  video_duration_sec  \\\n",
       "0  1        claim  7017666017                  59   \n",
       "1  2        claim  4014381136                  32   \n",
       "2  3        claim  9859838091                  31   \n",
       "3  4        claim  1866847991                  25   \n",
       "4  5        claim  7105231098                  19   \n",
       "\n",
       "                            video_transcription_text verified_status  \\\n",
       "0  someone shared with me that drone deliveries a...    not verified   \n",
       "1  someone shared with me that there are more mic...    not verified   \n",
       "2  someone shared with me that american industria...    not verified   \n",
       "3  someone shared with me that the metro of st. p...    not verified   \n",
       "4  someone shared with me that the number of busi...    not verified   \n",
       "\n",
       "  author_ban_status  video_view_count  video_like_count  video_share_count  \\\n",
       "0      under review          343296.0           19425.0              241.0   \n",
       "1            active          140877.0           77355.0            19034.0   \n",
       "2            active          902185.0           97690.0             2858.0   \n",
       "3            active          437506.0          239954.0            34812.0   \n",
       "4            active           56167.0           34987.0             4110.0   \n",
       "\n",
       "   video_download_count  video_comment_count  likes_per_view  \\\n",
       "0                   1.0                  0.0        0.056584   \n",
       "1                1161.0                684.0        0.549096   \n",
       "2                 833.0                329.0        0.108282   \n",
       "3                1234.0                584.0        0.548459   \n",
       "4                 547.0                152.0        0.622910   \n",
       "\n",
       "   comments_per_view  shares_per_view  text_length  \n",
       "0           0.000000         0.000702           97  \n",
       "1           0.004855         0.135111          107  \n",
       "2           0.000365         0.003168          137  \n",
       "3           0.001335         0.079569          131  \n",
       "4           0.002706         0.073175          128  "
      ]
     },
     "execution_count": 40,
     "metadata": {},
     "output_type": "execute_result"
    }
   ],
   "source": [
    "data_upsampled.head()"
   ]
  },
  {
   "cell_type": "markdown",
   "id": "a3fc7333",
   "metadata": {
    "papermill": {
     "duration": 0.03497,
     "end_time": "2023-09-03T15:28:00.906927",
     "exception": false,
     "start_time": "2023-09-03T15:28:00.871957",
     "status": "completed"
    },
    "tags": []
   },
   "source": [
    "# Examine the corelation"
   ]
  },
  {
   "cell_type": "code",
   "execution_count": 41,
   "id": "0dc14424",
   "metadata": {
    "execution": {
     "iopub.execute_input": "2023-09-03T15:28:00.979216Z",
     "iopub.status.busy": "2023-09-03T15:28:00.978208Z",
     "iopub.status.idle": "2023-09-03T15:28:01.022833Z",
     "shell.execute_reply": "2023-09-03T15:28:01.021860Z"
    },
    "papermill": {
     "duration": 0.083237,
     "end_time": "2023-09-03T15:28:01.025177",
     "exception": false,
     "start_time": "2023-09-03T15:28:00.941940",
     "status": "completed"
    },
    "tags": []
   },
   "outputs": [
    {
     "data": {
      "text/html": [
       "<div>\n",
       "<style scoped>\n",
       "    .dataframe tbody tr th:only-of-type {\n",
       "        vertical-align: middle;\n",
       "    }\n",
       "\n",
       "    .dataframe tbody tr th {\n",
       "        vertical-align: top;\n",
       "    }\n",
       "\n",
       "    .dataframe thead th {\n",
       "        text-align: right;\n",
       "    }\n",
       "</style>\n",
       "<table border=\"1\" class=\"dataframe\">\n",
       "  <thead>\n",
       "    <tr style=\"text-align: right;\">\n",
       "      <th></th>\n",
       "      <th>#</th>\n",
       "      <th>video_id</th>\n",
       "      <th>video_duration_sec</th>\n",
       "      <th>video_view_count</th>\n",
       "      <th>video_like_count</th>\n",
       "      <th>video_share_count</th>\n",
       "      <th>video_download_count</th>\n",
       "      <th>video_comment_count</th>\n",
       "      <th>likes_per_view</th>\n",
       "      <th>comments_per_view</th>\n",
       "      <th>shares_per_view</th>\n",
       "      <th>text_length</th>\n",
       "    </tr>\n",
       "  </thead>\n",
       "  <tbody>\n",
       "    <tr>\n",
       "      <th>#</th>\n",
       "      <td>1.000000</td>\n",
       "      <td>-0.000853</td>\n",
       "      <td>-0.011729</td>\n",
       "      <td>-0.697007</td>\n",
       "      <td>-0.626385</td>\n",
       "      <td>-0.504015</td>\n",
       "      <td>-0.487096</td>\n",
       "      <td>-0.608773</td>\n",
       "      <td>-0.282755</td>\n",
       "      <td>-0.311144</td>\n",
       "      <td>-0.214349</td>\n",
       "      <td>-0.193677</td>\n",
       "    </tr>\n",
       "    <tr>\n",
       "      <th>video_id</th>\n",
       "      <td>-0.000853</td>\n",
       "      <td>1.000000</td>\n",
       "      <td>0.011859</td>\n",
       "      <td>0.002554</td>\n",
       "      <td>0.005993</td>\n",
       "      <td>0.010515</td>\n",
       "      <td>0.008753</td>\n",
       "      <td>0.012674</td>\n",
       "      <td>-0.005539</td>\n",
       "      <td>0.005954</td>\n",
       "      <td>-0.001698</td>\n",
       "      <td>-0.007083</td>\n",
       "    </tr>\n",
       "    <tr>\n",
       "      <th>video_duration_sec</th>\n",
       "      <td>-0.011729</td>\n",
       "      <td>0.011859</td>\n",
       "      <td>1.000000</td>\n",
       "      <td>0.013589</td>\n",
       "      <td>0.004494</td>\n",
       "      <td>0.002206</td>\n",
       "      <td>0.003989</td>\n",
       "      <td>-0.001086</td>\n",
       "      <td>-0.003731</td>\n",
       "      <td>-0.021063</td>\n",
       "      <td>0.001244</td>\n",
       "      <td>-0.002981</td>\n",
       "    </tr>\n",
       "    <tr>\n",
       "      <th>video_view_count</th>\n",
       "      <td>-0.697007</td>\n",
       "      <td>0.002554</td>\n",
       "      <td>0.013589</td>\n",
       "      <td>1.000000</td>\n",
       "      <td>0.856937</td>\n",
       "      <td>0.711313</td>\n",
       "      <td>0.690048</td>\n",
       "      <td>0.748361</td>\n",
       "      <td>0.278638</td>\n",
       "      <td>0.292290</td>\n",
       "      <td>0.204884</td>\n",
       "      <td>0.244693</td>\n",
       "    </tr>\n",
       "    <tr>\n",
       "      <th>video_like_count</th>\n",
       "      <td>-0.626385</td>\n",
       "      <td>0.005993</td>\n",
       "      <td>0.004494</td>\n",
       "      <td>0.856937</td>\n",
       "      <td>1.000000</td>\n",
       "      <td>0.832146</td>\n",
       "      <td>0.805543</td>\n",
       "      <td>0.818032</td>\n",
       "      <td>0.565200</td>\n",
       "      <td>0.442375</td>\n",
       "      <td>0.404021</td>\n",
       "      <td>0.216693</td>\n",
       "    </tr>\n",
       "    <tr>\n",
       "      <th>video_share_count</th>\n",
       "      <td>-0.504015</td>\n",
       "      <td>0.010515</td>\n",
       "      <td>0.002206</td>\n",
       "      <td>0.711313</td>\n",
       "      <td>0.832146</td>\n",
       "      <td>1.000000</td>\n",
       "      <td>0.710117</td>\n",
       "      <td>0.671335</td>\n",
       "      <td>0.485643</td>\n",
       "      <td>0.389892</td>\n",
       "      <td>0.594859</td>\n",
       "      <td>0.171651</td>\n",
       "    </tr>\n",
       "    <tr>\n",
       "      <th>video_download_count</th>\n",
       "      <td>-0.487096</td>\n",
       "      <td>0.008753</td>\n",
       "      <td>0.003989</td>\n",
       "      <td>0.690048</td>\n",
       "      <td>0.805543</td>\n",
       "      <td>0.710117</td>\n",
       "      <td>1.000000</td>\n",
       "      <td>0.793668</td>\n",
       "      <td>0.476817</td>\n",
       "      <td>0.600509</td>\n",
       "      <td>0.343180</td>\n",
       "      <td>0.173396</td>\n",
       "    </tr>\n",
       "    <tr>\n",
       "      <th>video_comment_count</th>\n",
       "      <td>-0.608773</td>\n",
       "      <td>0.012674</td>\n",
       "      <td>-0.001086</td>\n",
       "      <td>0.748361</td>\n",
       "      <td>0.818032</td>\n",
       "      <td>0.671335</td>\n",
       "      <td>0.793668</td>\n",
       "      <td>1.000000</td>\n",
       "      <td>0.455890</td>\n",
       "      <td>0.634753</td>\n",
       "      <td>0.332204</td>\n",
       "      <td>0.217661</td>\n",
       "    </tr>\n",
       "    <tr>\n",
       "      <th>likes_per_view</th>\n",
       "      <td>-0.282755</td>\n",
       "      <td>-0.005539</td>\n",
       "      <td>-0.003731</td>\n",
       "      <td>0.278638</td>\n",
       "      <td>0.565200</td>\n",
       "      <td>0.485643</td>\n",
       "      <td>0.476817</td>\n",
       "      <td>0.455890</td>\n",
       "      <td>1.000000</td>\n",
       "      <td>0.539845</td>\n",
       "      <td>0.675187</td>\n",
       "      <td>0.094428</td>\n",
       "    </tr>\n",
       "    <tr>\n",
       "      <th>comments_per_view</th>\n",
       "      <td>-0.311144</td>\n",
       "      <td>0.005954</td>\n",
       "      <td>-0.021063</td>\n",
       "      <td>0.292290</td>\n",
       "      <td>0.442375</td>\n",
       "      <td>0.389892</td>\n",
       "      <td>0.600509</td>\n",
       "      <td>0.634753</td>\n",
       "      <td>0.539845</td>\n",
       "      <td>1.000000</td>\n",
       "      <td>0.394044</td>\n",
       "      <td>0.114497</td>\n",
       "    </tr>\n",
       "    <tr>\n",
       "      <th>shares_per_view</th>\n",
       "      <td>-0.214349</td>\n",
       "      <td>-0.001698</td>\n",
       "      <td>0.001244</td>\n",
       "      <td>0.204884</td>\n",
       "      <td>0.404021</td>\n",
       "      <td>0.594859</td>\n",
       "      <td>0.343180</td>\n",
       "      <td>0.332204</td>\n",
       "      <td>0.675187</td>\n",
       "      <td>0.394044</td>\n",
       "      <td>1.000000</td>\n",
       "      <td>0.062586</td>\n",
       "    </tr>\n",
       "    <tr>\n",
       "      <th>text_length</th>\n",
       "      <td>-0.193677</td>\n",
       "      <td>-0.007083</td>\n",
       "      <td>-0.002981</td>\n",
       "      <td>0.244693</td>\n",
       "      <td>0.216693</td>\n",
       "      <td>0.171651</td>\n",
       "      <td>0.173396</td>\n",
       "      <td>0.217661</td>\n",
       "      <td>0.094428</td>\n",
       "      <td>0.114497</td>\n",
       "      <td>0.062586</td>\n",
       "      <td>1.000000</td>\n",
       "    </tr>\n",
       "  </tbody>\n",
       "</table>\n",
       "</div>"
      ],
      "text/plain": [
       "                             #  video_id  video_duration_sec  \\\n",
       "#                     1.000000 -0.000853           -0.011729   \n",
       "video_id             -0.000853  1.000000            0.011859   \n",
       "video_duration_sec   -0.011729  0.011859            1.000000   \n",
       "video_view_count     -0.697007  0.002554            0.013589   \n",
       "video_like_count     -0.626385  0.005993            0.004494   \n",
       "video_share_count    -0.504015  0.010515            0.002206   \n",
       "video_download_count -0.487096  0.008753            0.003989   \n",
       "video_comment_count  -0.608773  0.012674           -0.001086   \n",
       "likes_per_view       -0.282755 -0.005539           -0.003731   \n",
       "comments_per_view    -0.311144  0.005954           -0.021063   \n",
       "shares_per_view      -0.214349 -0.001698            0.001244   \n",
       "text_length          -0.193677 -0.007083           -0.002981   \n",
       "\n",
       "                      video_view_count  video_like_count  video_share_count  \\\n",
       "#                            -0.697007         -0.626385          -0.504015   \n",
       "video_id                      0.002554          0.005993           0.010515   \n",
       "video_duration_sec            0.013589          0.004494           0.002206   \n",
       "video_view_count              1.000000          0.856937           0.711313   \n",
       "video_like_count              0.856937          1.000000           0.832146   \n",
       "video_share_count             0.711313          0.832146           1.000000   \n",
       "video_download_count          0.690048          0.805543           0.710117   \n",
       "video_comment_count           0.748361          0.818032           0.671335   \n",
       "likes_per_view                0.278638          0.565200           0.485643   \n",
       "comments_per_view             0.292290          0.442375           0.389892   \n",
       "shares_per_view               0.204884          0.404021           0.594859   \n",
       "text_length                   0.244693          0.216693           0.171651   \n",
       "\n",
       "                      video_download_count  video_comment_count  \\\n",
       "#                                -0.487096            -0.608773   \n",
       "video_id                          0.008753             0.012674   \n",
       "video_duration_sec                0.003989            -0.001086   \n",
       "video_view_count                  0.690048             0.748361   \n",
       "video_like_count                  0.805543             0.818032   \n",
       "video_share_count                 0.710117             0.671335   \n",
       "video_download_count              1.000000             0.793668   \n",
       "video_comment_count               0.793668             1.000000   \n",
       "likes_per_view                    0.476817             0.455890   \n",
       "comments_per_view                 0.600509             0.634753   \n",
       "shares_per_view                   0.343180             0.332204   \n",
       "text_length                       0.173396             0.217661   \n",
       "\n",
       "                      likes_per_view  comments_per_view  shares_per_view  \\\n",
       "#                          -0.282755          -0.311144        -0.214349   \n",
       "video_id                   -0.005539           0.005954        -0.001698   \n",
       "video_duration_sec         -0.003731          -0.021063         0.001244   \n",
       "video_view_count            0.278638           0.292290         0.204884   \n",
       "video_like_count            0.565200           0.442375         0.404021   \n",
       "video_share_count           0.485643           0.389892         0.594859   \n",
       "video_download_count        0.476817           0.600509         0.343180   \n",
       "video_comment_count         0.455890           0.634753         0.332204   \n",
       "likes_per_view              1.000000           0.539845         0.675187   \n",
       "comments_per_view           0.539845           1.000000         0.394044   \n",
       "shares_per_view             0.675187           0.394044         1.000000   \n",
       "text_length                 0.094428           0.114497         0.062586   \n",
       "\n",
       "                      text_length  \n",
       "#                       -0.193677  \n",
       "video_id                -0.007083  \n",
       "video_duration_sec      -0.002981  \n",
       "video_view_count         0.244693  \n",
       "video_like_count         0.216693  \n",
       "video_share_count        0.171651  \n",
       "video_download_count     0.173396  \n",
       "video_comment_count      0.217661  \n",
       "likes_per_view           0.094428  \n",
       "comments_per_view        0.114497  \n",
       "shares_per_view          0.062586  \n",
       "text_length              1.000000  "
      ]
     },
     "execution_count": 41,
     "metadata": {},
     "output_type": "execute_result"
    }
   ],
   "source": [
    "data_upsampled.corr(numeric_only=True)"
   ]
  },
  {
   "cell_type": "code",
   "execution_count": 42,
   "id": "44a6f928",
   "metadata": {
    "execution": {
     "iopub.execute_input": "2023-09-03T15:28:01.098611Z",
     "iopub.status.busy": "2023-09-03T15:28:01.098164Z",
     "iopub.status.idle": "2023-09-03T15:28:01.105532Z",
     "shell.execute_reply": "2023-09-03T15:28:01.104484Z"
    },
    "papermill": {
     "duration": 0.047235,
     "end_time": "2023-09-03T15:28:01.108012",
     "exception": false,
     "start_time": "2023-09-03T15:28:01.060777",
     "status": "completed"
    },
    "tags": []
   },
   "outputs": [
    {
     "data": {
      "text/plain": [
       "Index(['#', 'claim_status', 'video_id', 'video_duration_sec',\n",
       "       'video_transcription_text', 'verified_status', 'author_ban_status',\n",
       "       'video_view_count', 'video_like_count', 'video_share_count',\n",
       "       'video_download_count', 'video_comment_count', 'likes_per_view',\n",
       "       'comments_per_view', 'shares_per_view', 'text_length'],\n",
       "      dtype='object')"
      ]
     },
     "execution_count": 42,
     "metadata": {},
     "output_type": "execute_result"
    }
   ],
   "source": [
    "data_upsampled.columns"
   ]
  },
  {
   "cell_type": "code",
   "execution_count": 43,
   "id": "a6fb8b6d",
   "metadata": {
    "execution": {
     "iopub.execute_input": "2023-09-03T15:28:01.183477Z",
     "iopub.status.busy": "2023-09-03T15:28:01.182473Z",
     "iopub.status.idle": "2023-09-03T15:28:01.718717Z",
     "shell.execute_reply": "2023-09-03T15:28:01.717762Z"
    },
    "papermill": {
     "duration": 0.576696,
     "end_time": "2023-09-03T15:28:01.721090",
     "exception": false,
     "start_time": "2023-09-03T15:28:01.144394",
     "status": "completed"
    },
    "tags": []
   },
   "outputs": [
    {
     "data": {
      "image/png": "[encoded data removed]",
      "text/plain": [
       "<Figure size 800x600 with 2 Axes>"
      ]
     },
     "metadata": {},
     "output_type": "display_data"
    }
   ],
   "source": [
    "#heatmap\n",
    "\n",
    "plt.figure(figsize=(8,6))\n",
    "sns.heatmap(data_upsampled[['video_duration_sec',\n",
    "       'video_transcription_text', 'verified_status', 'author_ban_status',\n",
    "       'video_view_count', 'video_like_count', 'video_share_count',\n",
    "       'video_download_count', 'video_comment_count', 'text_length']].corr(numeric_only=True),\\\n",
    "           annot=True , cmap='crest')\n",
    "plt.title(\"Heatmap\")\n",
    "plt.show()"
   ]
  },
  {
   "cell_type": "markdown",
   "id": "108c4de8",
   "metadata": {
    "papermill": {
     "duration": 0.036509,
     "end_time": "2023-09-03T15:28:01.794458",
     "exception": false,
     "start_time": "2023-09-03T15:28:01.757949",
     "status": "completed"
    },
    "tags": []
   },
   "source": [
    "**The heatmap relveals strong corelation between video_view_count and video_like_count 0.86 T o buid Logistic Model there should be no sever \"mulicollinearity**"
   ]
  },
  {
   "cell_type": "markdown",
   "id": "7bf717ab",
   "metadata": {
    "papermill": {
     "duration": 0.036453,
     "end_time": "2023-09-03T15:28:01.867722",
     "exception": false,
     "start_time": "2023-09-03T15:28:01.831269",
     "status": "completed"
    },
    "tags": []
   },
   "source": [
    "# Varaiable selection"
   ]
  },
  {
   "cell_type": "code",
   "execution_count": 44,
   "id": "b826c3b8",
   "metadata": {
    "execution": {
     "iopub.execute_input": "2023-09-03T15:28:01.942904Z",
     "iopub.status.busy": "2023-09-03T15:28:01.942487Z",
     "iopub.status.idle": "2023-09-03T15:28:01.950198Z",
     "shell.execute_reply": "2023-09-03T15:28:01.949080Z"
    },
    "papermill": {
     "duration": 0.048109,
     "end_time": "2023-09-03T15:28:01.952530",
     "exception": false,
     "start_time": "2023-09-03T15:28:01.904421",
     "status": "completed"
    },
    "tags": []
   },
   "outputs": [
    {
     "data": {
      "text/plain": [
       "Index(['#', 'claim_status', 'video_id', 'video_duration_sec',\n",
       "       'video_transcription_text', 'verified_status', 'author_ban_status',\n",
       "       'video_view_count', 'video_like_count', 'video_share_count',\n",
       "       'video_download_count', 'video_comment_count', 'likes_per_view',\n",
       "       'comments_per_view', 'shares_per_view', 'text_length'],\n",
       "      dtype='object')"
      ]
     },
     "execution_count": 44,
     "metadata": {},
     "output_type": "execute_result"
    }
   ],
   "source": [
    "data_upsampled.columns"
   ]
  },
  {
   "cell_type": "code",
   "execution_count": 45,
   "id": "bf593d07",
   "metadata": {
    "execution": {
     "iopub.execute_input": "2023-09-03T15:28:02.029291Z",
     "iopub.status.busy": "2023-09-03T15:28:02.028863Z",
     "iopub.status.idle": "2023-09-03T15:28:02.035849Z",
     "shell.execute_reply": "2023-09-03T15:28:02.034951Z"
    },
    "papermill": {
     "duration": 0.047739,
     "end_time": "2023-09-03T15:28:02.037982",
     "exception": false,
     "start_time": "2023-09-03T15:28:01.990243",
     "status": "completed"
    },
    "tags": []
   },
   "outputs": [],
   "source": [
    "y=data_upsampled['verified_status']\n",
    "X=data_upsampled[['claim_status', 'video_duration_sec',\n",
    "        'author_ban_status',\n",
    "       'video_view_count', 'video_share_count',\n",
    "       'video_download_count', 'video_comment_count']]"
   ]
  },
  {
   "cell_type": "code",
   "execution_count": 46,
   "id": "8dec0e2c",
   "metadata": {
    "execution": {
     "iopub.execute_input": "2023-09-03T15:28:02.114127Z",
     "iopub.status.busy": "2023-09-03T15:28:02.113648Z",
     "iopub.status.idle": "2023-09-03T15:28:02.130521Z",
     "shell.execute_reply": "2023-09-03T15:28:02.129614Z"
    },
    "papermill": {
     "duration": 0.057906,
     "end_time": "2023-09-03T15:28:02.133056",
     "exception": false,
     "start_time": "2023-09-03T15:28:02.075150",
     "status": "completed"
    },
    "tags": []
   },
   "outputs": [],
   "source": [
    "X_train,X_test,y_train,y_test = train_test_split(X,y,test_size=0.25)"
   ]
  },
  {
   "cell_type": "code",
   "execution_count": 47,
   "id": "5adb1689",
   "metadata": {
    "execution": {
     "iopub.execute_input": "2023-09-03T15:28:02.209850Z",
     "iopub.status.busy": "2023-09-03T15:28:02.208721Z",
     "iopub.status.idle": "2023-09-03T15:28:02.216751Z",
     "shell.execute_reply": "2023-09-03T15:28:02.215705Z"
    },
    "papermill": {
     "duration": 0.048699,
     "end_time": "2023-09-03T15:28:02.218981",
     "exception": false,
     "start_time": "2023-09-03T15:28:02.170282",
     "status": "completed"
    },
    "tags": []
   },
   "outputs": [
    {
     "data": {
      "text/plain": [
       "((26826, 7), (8942, 7), (26826,), (8942,))"
      ]
     },
     "execution_count": 47,
     "metadata": {},
     "output_type": "execute_result"
    }
   ],
   "source": [
    "X_train.shape , X_test.shape , y_train.shape , y_test.shape"
   ]
  },
  {
   "cell_type": "markdown",
   "id": "c4760aef",
   "metadata": {
    "papermill": {
     "duration": 0.036818,
     "end_time": "2023-09-03T15:28:02.292999",
     "exception": false,
     "start_time": "2023-09-03T15:28:02.256181",
     "status": "completed"
    },
    "tags": []
   },
   "source": [
    "# Encode Variable"
   ]
  },
  {
   "cell_type": "code",
   "execution_count": 48,
   "id": "5efa47a6",
   "metadata": {
    "execution": {
     "iopub.execute_input": "2023-09-03T15:28:02.369199Z",
     "iopub.status.busy": "2023-09-03T15:28:02.368759Z",
     "iopub.status.idle": "2023-09-03T15:28:02.376348Z",
     "shell.execute_reply": "2023-09-03T15:28:02.375576Z"
    },
    "papermill": {
     "duration": 0.047841,
     "end_time": "2023-09-03T15:28:02.378357",
     "exception": false,
     "start_time": "2023-09-03T15:28:02.330516",
     "status": "completed"
    },
    "tags": []
   },
   "outputs": [
    {
     "data": {
      "text/plain": [
       "claim_status             object\n",
       "video_duration_sec        int64\n",
       "author_ban_status        object\n",
       "video_view_count        float64\n",
       "video_share_count       float64\n",
       "video_download_count    float64\n",
       "video_comment_count     float64\n",
       "dtype: object"
      ]
     },
     "execution_count": 48,
     "metadata": {},
     "output_type": "execute_result"
    }
   ],
   "source": [
    "X_train.dtypes"
   ]
  },
  {
   "cell_type": "code",
   "execution_count": 49,
   "id": "d5df732d",
   "metadata": {
    "execution": {
     "iopub.execute_input": "2023-09-03T15:28:02.455062Z",
     "iopub.status.busy": "2023-09-03T15:28:02.454622Z",
     "iopub.status.idle": "2023-09-03T15:28:02.462981Z",
     "shell.execute_reply": "2023-09-03T15:28:02.462137Z"
    },
    "papermill": {
     "duration": 0.049362,
     "end_time": "2023-09-03T15:28:02.465106",
     "exception": false,
     "start_time": "2023-09-03T15:28:02.415744",
     "status": "completed"
    },
    "tags": []
   },
   "outputs": [
    {
     "data": {
      "text/plain": [
       "array(['claim', 'opinion'], dtype=object)"
      ]
     },
     "execution_count": 49,
     "metadata": {},
     "output_type": "execute_result"
    }
   ],
   "source": [
    "X_train['claim_status'].unique()"
   ]
  },
  {
   "cell_type": "code",
   "execution_count": 50,
   "id": "e3fc50ff",
   "metadata": {
    "execution": {
     "iopub.execute_input": "2023-09-03T15:28:02.544051Z",
     "iopub.status.busy": "2023-09-03T15:28:02.543624Z",
     "iopub.status.idle": "2023-09-03T15:28:02.552182Z",
     "shell.execute_reply": "2023-09-03T15:28:02.550856Z"
    },
    "papermill": {
     "duration": 0.051787,
     "end_time": "2023-09-03T15:28:02.554591",
     "exception": false,
     "start_time": "2023-09-03T15:28:02.502804",
     "status": "completed"
    },
    "tags": []
   },
   "outputs": [
    {
     "data": {
      "text/plain": [
       "array(['active', 'under review', 'banned'], dtype=object)"
      ]
     },
     "execution_count": 50,
     "metadata": {},
     "output_type": "execute_result"
    }
   ],
   "source": [
    "X_test['author_ban_status'].unique()"
   ]
  },
  {
   "cell_type": "code",
   "execution_count": 51,
   "id": "ae17ac30",
   "metadata": {
    "execution": {
     "iopub.execute_input": "2023-09-03T15:28:02.631899Z",
     "iopub.status.busy": "2023-09-03T15:28:02.631460Z",
     "iopub.status.idle": "2023-09-03T15:28:02.645309Z",
     "shell.execute_reply": "2023-09-03T15:28:02.644186Z"
    },
    "papermill": {
     "duration": 0.055035,
     "end_time": "2023-09-03T15:28:02.647726",
     "exception": false,
     "start_time": "2023-09-03T15:28:02.592691",
     "status": "completed"
    },
    "tags": []
   },
   "outputs": [
    {
     "data": {
      "text/html": [
       "<div>\n",
       "<style scoped>\n",
       "    .dataframe tbody tr th:only-of-type {\n",
       "        vertical-align: middle;\n",
       "    }\n",
       "\n",
       "    .dataframe tbody tr th {\n",
       "        vertical-align: top;\n",
       "    }\n",
       "\n",
       "    .dataframe thead th {\n",
       "        text-align: right;\n",
       "    }\n",
       "</style>\n",
       "<table border=\"1\" class=\"dataframe\">\n",
       "  <thead>\n",
       "    <tr style=\"text-align: right;\">\n",
       "      <th></th>\n",
       "      <th>author_ban_status</th>\n",
       "      <th>claim_status</th>\n",
       "    </tr>\n",
       "  </thead>\n",
       "  <tbody>\n",
       "    <tr>\n",
       "      <th>1616</th>\n",
       "      <td>active</td>\n",
       "      <td>claim</td>\n",
       "    </tr>\n",
       "    <tr>\n",
       "      <th>19948</th>\n",
       "      <td>active</td>\n",
       "      <td>opinion</td>\n",
       "    </tr>\n",
       "    <tr>\n",
       "      <th>10153</th>\n",
       "      <td>active</td>\n",
       "      <td>opinion</td>\n",
       "    </tr>\n",
       "    <tr>\n",
       "      <th>10063</th>\n",
       "      <td>active</td>\n",
       "      <td>opinion</td>\n",
       "    </tr>\n",
       "    <tr>\n",
       "      <th>31007</th>\n",
       "      <td>active</td>\n",
       "      <td>claim</td>\n",
       "    </tr>\n",
       "  </tbody>\n",
       "</table>\n",
       "</div>"
      ],
      "text/plain": [
       "      author_ban_status claim_status\n",
       "1616             active        claim\n",
       "19948            active      opinion\n",
       "10153            active      opinion\n",
       "10063            active      opinion\n",
       "31007            active        claim"
      ]
     },
     "execution_count": 51,
     "metadata": {},
     "output_type": "execute_result"
    }
   ],
   "source": [
    "X_train_to_encode=X_train[['author_ban_status','claim_status']]\n",
    "X_train_to_encode.head()"
   ]
  },
  {
   "cell_type": "code",
   "execution_count": 52,
   "id": "63a2eac5",
   "metadata": {
    "execution": {
     "iopub.execute_input": "2023-09-03T15:28:02.726089Z",
     "iopub.status.busy": "2023-09-03T15:28:02.725635Z",
     "iopub.status.idle": "2023-09-03T15:28:02.730105Z",
     "shell.execute_reply": "2023-09-03T15:28:02.729235Z"
    },
    "papermill": {
     "duration": 0.046052,
     "end_time": "2023-09-03T15:28:02.732294",
     "exception": false,
     "start_time": "2023-09-03T15:28:02.686242",
     "status": "completed"
    },
    "tags": []
   },
   "outputs": [],
   "source": [
    "X_encoder=OneHotEncoder(drop='first', sparse_output=False)\n",
    "\n",
    "#drop=first  helps avoid multicollinearity"
   ]
  },
  {
   "cell_type": "code",
   "execution_count": 53,
   "id": "eecea051",
   "metadata": {
    "execution": {
     "iopub.execute_input": "2023-09-03T15:28:02.809942Z",
     "iopub.status.busy": "2023-09-03T15:28:02.809471Z",
     "iopub.status.idle": "2023-09-03T15:28:02.851566Z",
     "shell.execute_reply": "2023-09-03T15:28:02.850171Z"
    },
    "papermill": {
     "duration": 0.084234,
     "end_time": "2023-09-03T15:28:02.854519",
     "exception": false,
     "start_time": "2023-09-03T15:28:02.770285",
     "status": "completed"
    },
    "tags": []
   },
   "outputs": [],
   "source": [
    "X_train_encoded =X_encoder.fit_transform(X_train_to_encode)"
   ]
  },
  {
   "cell_type": "code",
   "execution_count": 54,
   "id": "9d2e61f8",
   "metadata": {
    "execution": {
     "iopub.execute_input": "2023-09-03T15:28:02.933178Z",
     "iopub.status.busy": "2023-09-03T15:28:02.932732Z",
     "iopub.status.idle": "2023-09-03T15:28:02.950392Z",
     "shell.execute_reply": "2023-09-03T15:28:02.949254Z"
    },
    "papermill": {
     "duration": 0.059445,
     "end_time": "2023-09-03T15:28:02.952668",
     "exception": false,
     "start_time": "2023-09-03T15:28:02.893223",
     "status": "completed"
    },
    "tags": []
   },
   "outputs": [
    {
     "data": {
      "text/html": [
       "<div>\n",
       "<style scoped>\n",
       "    .dataframe tbody tr th:only-of-type {\n",
       "        vertical-align: middle;\n",
       "    }\n",
       "\n",
       "    .dataframe tbody tr th {\n",
       "        vertical-align: top;\n",
       "    }\n",
       "\n",
       "    .dataframe thead th {\n",
       "        text-align: right;\n",
       "    }\n",
       "</style>\n",
       "<table border=\"1\" class=\"dataframe\">\n",
       "  <thead>\n",
       "    <tr style=\"text-align: right;\">\n",
       "      <th></th>\n",
       "      <th>author_ban_status_banned</th>\n",
       "      <th>author_ban_status_under review</th>\n",
       "      <th>claim_status_opinion</th>\n",
       "    </tr>\n",
       "  </thead>\n",
       "  <tbody>\n",
       "    <tr>\n",
       "      <th>0</th>\n",
       "      <td>0.0</td>\n",
       "      <td>0.0</td>\n",
       "      <td>0.0</td>\n",
       "    </tr>\n",
       "    <tr>\n",
       "      <th>1</th>\n",
       "      <td>0.0</td>\n",
       "      <td>0.0</td>\n",
       "      <td>1.0</td>\n",
       "    </tr>\n",
       "    <tr>\n",
       "      <th>2</th>\n",
       "      <td>0.0</td>\n",
       "      <td>0.0</td>\n",
       "      <td>1.0</td>\n",
       "    </tr>\n",
       "    <tr>\n",
       "      <th>3</th>\n",
       "      <td>0.0</td>\n",
       "      <td>0.0</td>\n",
       "      <td>1.0</td>\n",
       "    </tr>\n",
       "    <tr>\n",
       "      <th>4</th>\n",
       "      <td>0.0</td>\n",
       "      <td>0.0</td>\n",
       "      <td>0.0</td>\n",
       "    </tr>\n",
       "    <tr>\n",
       "      <th>...</th>\n",
       "      <td>...</td>\n",
       "      <td>...</td>\n",
       "      <td>...</td>\n",
       "    </tr>\n",
       "    <tr>\n",
       "      <th>26821</th>\n",
       "      <td>1.0</td>\n",
       "      <td>0.0</td>\n",
       "      <td>1.0</td>\n",
       "    </tr>\n",
       "    <tr>\n",
       "      <th>26822</th>\n",
       "      <td>0.0</td>\n",
       "      <td>0.0</td>\n",
       "      <td>1.0</td>\n",
       "    </tr>\n",
       "    <tr>\n",
       "      <th>26823</th>\n",
       "      <td>0.0</td>\n",
       "      <td>0.0</td>\n",
       "      <td>1.0</td>\n",
       "    </tr>\n",
       "    <tr>\n",
       "      <th>26824</th>\n",
       "      <td>0.0</td>\n",
       "      <td>0.0</td>\n",
       "      <td>1.0</td>\n",
       "    </tr>\n",
       "    <tr>\n",
       "      <th>26825</th>\n",
       "      <td>0.0</td>\n",
       "      <td>0.0</td>\n",
       "      <td>1.0</td>\n",
       "    </tr>\n",
       "  </tbody>\n",
       "</table>\n",
       "<p>26826 rows × 3 columns</p>\n",
       "</div>"
      ],
      "text/plain": [
       "       author_ban_status_banned  author_ban_status_under review  \\\n",
       "0                           0.0                             0.0   \n",
       "1                           0.0                             0.0   \n",
       "2                           0.0                             0.0   \n",
       "3                           0.0                             0.0   \n",
       "4                           0.0                             0.0   \n",
       "...                         ...                             ...   \n",
       "26821                       1.0                             0.0   \n",
       "26822                       0.0                             0.0   \n",
       "26823                       0.0                             0.0   \n",
       "26824                       0.0                             0.0   \n",
       "26825                       0.0                             0.0   \n",
       "\n",
       "       claim_status_opinion  \n",
       "0                       0.0  \n",
       "1                       1.0  \n",
       "2                       1.0  \n",
       "3                       1.0  \n",
       "4                       0.0  \n",
       "...                     ...  \n",
       "26821                   1.0  \n",
       "26822                   1.0  \n",
       "26823                   1.0  \n",
       "26824                   1.0  \n",
       "26825                   1.0  \n",
       "\n",
       "[26826 rows x 3 columns]"
      ]
     },
     "execution_count": 54,
     "metadata": {},
     "output_type": "execute_result"
    }
   ],
   "source": [
    "X_train_encoded_df = pd.DataFrame(data=X_train_encoded , columns = X_encoder.get_feature_names_out())\n",
    "X_train_encoded_df"
   ]
  },
  {
   "cell_type": "code",
   "execution_count": 55,
   "id": "196f9639",
   "metadata": {
    "execution": {
     "iopub.execute_input": "2023-09-03T15:28:03.032605Z",
     "iopub.status.busy": "2023-09-03T15:28:03.032193Z",
     "iopub.status.idle": "2023-09-03T15:28:03.038916Z",
     "shell.execute_reply": "2023-09-03T15:28:03.037797Z"
    },
    "papermill": {
     "duration": 0.049924,
     "end_time": "2023-09-03T15:28:03.041202",
     "exception": false,
     "start_time": "2023-09-03T15:28:02.991278",
     "status": "completed"
    },
    "tags": []
   },
   "outputs": [
    {
     "data": {
      "text/plain": [
       "Index(['claim_status', 'video_duration_sec', 'author_ban_status',\n",
       "       'video_view_count', 'video_share_count', 'video_download_count',\n",
       "       'video_comment_count'],\n",
       "      dtype='object')"
      ]
     },
     "execution_count": 55,
     "metadata": {},
     "output_type": "execute_result"
    }
   ],
   "source": [
    "X_train.columns"
   ]
  },
  {
   "cell_type": "code",
   "execution_count": 56,
   "id": "01f7496a",
   "metadata": {
    "execution": {
     "iopub.execute_input": "2023-09-03T15:28:03.121502Z",
     "iopub.status.busy": "2023-09-03T15:28:03.121120Z",
     "iopub.status.idle": "2023-09-03T15:28:03.130466Z",
     "shell.execute_reply": "2023-09-03T15:28:03.129337Z"
    },
    "papermill": {
     "duration": 0.051677,
     "end_time": "2023-09-03T15:28:03.132911",
     "exception": false,
     "start_time": "2023-09-03T15:28:03.081234",
     "status": "completed"
    },
    "tags": []
   },
   "outputs": [],
   "source": [
    "X_train_final = pd.concat([X_train.drop(columns=['claim_status' , 'author_ban_status']).reset_index(drop=True) , X_train_encoded_df] , axis=1)"
   ]
  },
  {
   "cell_type": "code",
   "execution_count": 57,
   "id": "fab60f3c",
   "metadata": {
    "execution": {
     "iopub.execute_input": "2023-09-03T15:28:03.214899Z",
     "iopub.status.busy": "2023-09-03T15:28:03.214260Z",
     "iopub.status.idle": "2023-09-03T15:28:03.219084Z",
     "shell.execute_reply": "2023-09-03T15:28:03.218330Z"
    },
    "papermill": {
     "duration": 0.048909,
     "end_time": "2023-09-03T15:28:03.221261",
     "exception": false,
     "start_time": "2023-09-03T15:28:03.172352",
     "status": "completed"
    },
    "tags": []
   },
   "outputs": [],
   "source": [
    "y_encoder = OneHotEncoder (drop='first', sparse_output = False)"
   ]
  },
  {
   "cell_type": "code",
   "execution_count": 58,
   "id": "d9b9736f",
   "metadata": {
    "execution": {
     "iopub.execute_input": "2023-09-03T15:28:03.301377Z",
     "iopub.status.busy": "2023-09-03T15:28:03.300654Z",
     "iopub.status.idle": "2023-09-03T15:28:03.320941Z",
     "shell.execute_reply": "2023-09-03T15:28:03.320105Z"
    },
    "papermill": {
     "duration": 0.063416,
     "end_time": "2023-09-03T15:28:03.323516",
     "exception": false,
     "start_time": "2023-09-03T15:28:03.260100",
     "status": "completed"
    },
    "tags": []
   },
   "outputs": [],
   "source": [
    "y_train_final = y_encoder.fit_transform(y_train.values.reshape(-1,1)).ravel()"
   ]
  },
  {
   "cell_type": "markdown",
   "id": "d76f2f61",
   "metadata": {
    "papermill": {
     "duration": 0.038284,
     "end_time": "2023-09-03T15:28:03.401508",
     "exception": false,
     "start_time": "2023-09-03T15:28:03.363224",
     "status": "completed"
    },
    "tags": []
   },
   "source": [
    "# Model Building"
   ]
  },
  {
   "cell_type": "code",
   "execution_count": 59,
   "id": "e5319f44",
   "metadata": {
    "execution": {
     "iopub.execute_input": "2023-09-03T15:28:03.481517Z",
     "iopub.status.busy": "2023-09-03T15:28:03.480232Z",
     "iopub.status.idle": "2023-09-03T15:28:03.768350Z",
     "shell.execute_reply": "2023-09-03T15:28:03.766731Z"
    },
    "papermill": {
     "duration": 0.332701,
     "end_time": "2023-09-03T15:28:03.772909",
     "exception": false,
     "start_time": "2023-09-03T15:28:03.440208",
     "status": "completed"
    },
    "tags": []
   },
   "outputs": [],
   "source": [
    "#Initializing\n",
    "log_clf = LogisticRegression(random_state=42 , max_iter =800).fit(X_train_final,y_train_final)"
   ]
  },
  {
   "cell_type": "markdown",
   "id": "a30a729f",
   "metadata": {
    "papermill": {
     "duration": 0.054412,
     "end_time": "2023-09-03T15:28:03.910579",
     "exception": false,
     "start_time": "2023-09-03T15:28:03.856167",
     "status": "completed"
    },
    "tags": []
   },
   "source": [
    "# Results and Evaluation"
   ]
  },
  {
   "cell_type": "code",
   "execution_count": 60,
   "id": "ee3e0577",
   "metadata": {
    "execution": {
     "iopub.execute_input": "2023-09-03T15:28:03.991341Z",
     "iopub.status.busy": "2023-09-03T15:28:03.990889Z",
     "iopub.status.idle": "2023-09-03T15:28:04.002664Z",
     "shell.execute_reply": "2023-09-03T15:28:04.001624Z"
    },
    "papermill": {
     "duration": 0.054319,
     "end_time": "2023-09-03T15:28:04.004817",
     "exception": false,
     "start_time": "2023-09-03T15:28:03.950498",
     "status": "completed"
    },
    "tags": []
   },
   "outputs": [
    {
     "data": {
      "text/html": [
       "<div>\n",
       "<style scoped>\n",
       "    .dataframe tbody tr th:only-of-type {\n",
       "        vertical-align: middle;\n",
       "    }\n",
       "\n",
       "    .dataframe tbody tr th {\n",
       "        vertical-align: top;\n",
       "    }\n",
       "\n",
       "    .dataframe thead th {\n",
       "        text-align: right;\n",
       "    }\n",
       "</style>\n",
       "<table border=\"1\" class=\"dataframe\">\n",
       "  <thead>\n",
       "    <tr style=\"text-align: right;\">\n",
       "      <th></th>\n",
       "      <th>author_ban_status</th>\n",
       "      <th>claim_status</th>\n",
       "    </tr>\n",
       "  </thead>\n",
       "  <tbody>\n",
       "    <tr>\n",
       "      <th>26484</th>\n",
       "      <td>active</td>\n",
       "      <td>opinion</td>\n",
       "    </tr>\n",
       "    <tr>\n",
       "      <th>14080</th>\n",
       "      <td>active</td>\n",
       "      <td>opinion</td>\n",
       "    </tr>\n",
       "    <tr>\n",
       "      <th>24016</th>\n",
       "      <td>active</td>\n",
       "      <td>claim</td>\n",
       "    </tr>\n",
       "    <tr>\n",
       "      <th>22570</th>\n",
       "      <td>under review</td>\n",
       "      <td>opinion</td>\n",
       "    </tr>\n",
       "    <tr>\n",
       "      <th>12096</th>\n",
       "      <td>active</td>\n",
       "      <td>opinion</td>\n",
       "    </tr>\n",
       "  </tbody>\n",
       "</table>\n",
       "</div>"
      ],
      "text/plain": [
       "      author_ban_status claim_status\n",
       "26484            active      opinion\n",
       "14080            active      opinion\n",
       "24016            active        claim\n",
       "22570      under review      opinion\n",
       "12096            active      opinion"
      ]
     },
     "execution_count": 60,
     "metadata": {},
     "output_type": "execute_result"
    }
   ],
   "source": [
    "X_test_to_encode = X_test[['author_ban_status','claim_status']]\n",
    "X_test_to_encode.head()"
   ]
  },
  {
   "cell_type": "code",
   "execution_count": 61,
   "id": "37080faf",
   "metadata": {
    "execution": {
     "iopub.execute_input": "2023-09-03T15:28:04.084635Z",
     "iopub.status.busy": "2023-09-03T15:28:04.083748Z",
     "iopub.status.idle": "2023-09-03T15:28:04.101969Z",
     "shell.execute_reply": "2023-09-03T15:28:04.100897Z"
    },
    "papermill": {
     "duration": 0.060414,
     "end_time": "2023-09-03T15:28:04.104147",
     "exception": false,
     "start_time": "2023-09-03T15:28:04.043733",
     "status": "completed"
    },
    "tags": []
   },
   "outputs": [
    {
     "data": {
      "text/plain": [
       "array([[0., 0., 1.],\n",
       "       [0., 0., 1.],\n",
       "       [0., 0., 0.],\n",
       "       ...,\n",
       "       [0., 0., 1.],\n",
       "       [0., 0., 1.],\n",
       "       [0., 0., 1.]])"
      ]
     },
     "execution_count": 61,
     "metadata": {},
     "output_type": "execute_result"
    }
   ],
   "source": [
    "X_test_encoded = X_encoder.transform(X_test_to_encode)\n",
    "X_test_encoded"
   ]
  },
  {
   "cell_type": "code",
   "execution_count": 62,
   "id": "5db625a4",
   "metadata": {
    "execution": {
     "iopub.execute_input": "2023-09-03T15:28:04.183807Z",
     "iopub.status.busy": "2023-09-03T15:28:04.183332Z",
     "iopub.status.idle": "2023-09-03T15:28:04.188563Z",
     "shell.execute_reply": "2023-09-03T15:28:04.187699Z"
    },
    "papermill": {
     "duration": 0.047492,
     "end_time": "2023-09-03T15:28:04.190552",
     "exception": false,
     "start_time": "2023-09-03T15:28:04.143060",
     "status": "completed"
    },
    "tags": []
   },
   "outputs": [],
   "source": [
    "X_test_encoded_df = pd.DataFrame(data=X_test_encoded , columns = X_encoder.get_feature_names_out())"
   ]
  },
  {
   "cell_type": "code",
   "execution_count": 63,
   "id": "5dc482fd",
   "metadata": {
    "execution": {
     "iopub.execute_input": "2023-09-03T15:28:04.270292Z",
     "iopub.status.busy": "2023-09-03T15:28:04.269601Z",
     "iopub.status.idle": "2023-09-03T15:28:04.277221Z",
     "shell.execute_reply": "2023-09-03T15:28:04.276085Z"
    },
    "papermill": {
     "duration": 0.050068,
     "end_time": "2023-09-03T15:28:04.279503",
     "exception": false,
     "start_time": "2023-09-03T15:28:04.229435",
     "status": "completed"
    },
    "tags": []
   },
   "outputs": [],
   "source": [
    "X_test_final = pd.concat([X_test.drop(columns=['claim_status','author_ban_status']).reset_index(drop=True) , \\\n",
    "                        X_test_encoded_df], axis=1)"
   ]
  },
  {
   "cell_type": "code",
   "execution_count": 64,
   "id": "f2c160d7",
   "metadata": {
    "execution": {
     "iopub.execute_input": "2023-09-03T15:28:04.361099Z",
     "iopub.status.busy": "2023-09-03T15:28:04.360644Z",
     "iopub.status.idle": "2023-09-03T15:28:04.375211Z",
     "shell.execute_reply": "2023-09-03T15:28:04.373505Z"
    },
    "papermill": {
     "duration": 0.060427,
     "end_time": "2023-09-03T15:28:04.379243",
     "exception": false,
     "start_time": "2023-09-03T15:28:04.318816",
     "status": "completed"
    },
    "tags": []
   },
   "outputs": [],
   "source": [
    "y_pred =log_clf.predict(X_test_final)"
   ]
  },
  {
   "cell_type": "code",
   "execution_count": 65,
   "id": "971665aa",
   "metadata": {
    "execution": {
     "iopub.execute_input": "2023-09-03T15:28:04.517052Z",
     "iopub.status.busy": "2023-09-03T15:28:04.516656Z",
     "iopub.status.idle": "2023-09-03T15:28:04.526807Z",
     "shell.execute_reply": "2023-09-03T15:28:04.526043Z"
    },
    "papermill": {
     "duration": 0.066185,
     "end_time": "2023-09-03T15:28:04.529622",
     "exception": false,
     "start_time": "2023-09-03T15:28:04.463437",
     "status": "completed"
    },
    "tags": []
   },
   "outputs": [],
   "source": [
    "y_test_final = y_encoder.transform(y_test.values.reshape(-1,1)).ravel()"
   ]
  },
  {
   "cell_type": "markdown",
   "id": "9b4d2c0c",
   "metadata": {
    "papermill": {
     "duration": 0.039209,
     "end_time": "2023-09-03T15:28:04.609270",
     "exception": false,
     "start_time": "2023-09-03T15:28:04.570061",
     "status": "completed"
    },
    "tags": []
   },
   "source": [
    "# Confusion Matrix"
   ]
  },
  {
   "cell_type": "code",
   "execution_count": 66,
   "id": "72a73d75",
   "metadata": {
    "execution": {
     "iopub.execute_input": "2023-09-03T15:28:04.689014Z",
     "iopub.status.busy": "2023-09-03T15:28:04.688567Z",
     "iopub.status.idle": "2023-09-03T15:28:05.151426Z",
     "shell.execute_reply": "2023-09-03T15:28:05.150347Z"
    },
    "papermill": {
     "duration": 0.505291,
     "end_time": "2023-09-03T15:28:05.153717",
     "exception": false,
     "start_time": "2023-09-03T15:28:04.648426",
     "status": "completed"
    },
    "tags": []
   },
   "outputs": [
    {
     "data": {
      "image/png": "[encoded data removed]",
      "text/plain": [
       "<Figure size 640x480 with 2 Axes>"
      ]
     },
     "metadata": {},
     "output_type": "display_data"
    }
   ],
   "source": [
    "cm = confusion_matrix(y_test_final,y_pred ,labels = log_clf.classes_)\n",
    "cm_plot = ConfusionMatrixDisplay(confusion_matrix=cm , display_labels = log_clf.classes_)\n",
    "cm_plot.plot()\n",
    "plt.show()"
   ]
  },
  {
   "cell_type": "code",
   "execution_count": 67,
   "id": "ef4ae85d",
   "metadata": {
    "execution": {
     "iopub.execute_input": "2023-09-03T15:28:05.236106Z",
     "iopub.status.busy": "2023-09-03T15:28:05.235015Z",
     "iopub.status.idle": "2023-09-03T15:28:05.241607Z",
     "shell.execute_reply": "2023-09-03T15:28:05.240787Z"
    },
    "papermill": {
     "duration": 0.050142,
     "end_time": "2023-09-03T15:28:05.243728",
     "exception": false,
     "start_time": "2023-09-03T15:28:05.193586",
     "status": "completed"
    },
    "tags": []
   },
   "outputs": [
    {
     "data": {
      "text/plain": [
       "0.6461641690896891"
      ]
     },
     "execution_count": 67,
     "metadata": {},
     "output_type": "execute_result"
    }
   ],
   "source": [
    "#Accuray TP+TN / TP+TN+FP+FN\n",
    "\n",
    "(2056+3722)/(2056+2493+671+3722)"
   ]
  },
  {
   "cell_type": "markdown",
   "id": "d5c70913",
   "metadata": {
    "papermill": {
     "duration": 0.040716,
     "end_time": "2023-09-03T15:28:05.324880",
     "exception": false,
     "start_time": "2023-09-03T15:28:05.284164",
     "status": "completed"
    },
    "tags": []
   },
   "source": [
    "**Classification Reort**"
   ]
  },
  {
   "cell_type": "code",
   "execution_count": 68,
   "id": "a4de641d",
   "metadata": {
    "execution": {
     "iopub.execute_input": "2023-09-03T15:28:05.409822Z",
     "iopub.status.busy": "2023-09-03T15:28:05.409074Z",
     "iopub.status.idle": "2023-09-03T15:28:05.443882Z",
     "shell.execute_reply": "2023-09-03T15:28:05.442621Z"
    },
    "papermill": {
     "duration": 0.081641,
     "end_time": "2023-09-03T15:28:05.446362",
     "exception": false,
     "start_time": "2023-09-03T15:28:05.364721",
     "status": "completed"
    },
    "tags": []
   },
   "outputs": [
    {
     "name": "stdout",
     "output_type": "stream",
     "text": [
      "              precision    recall  f1-score   support\n",
      "\n",
      "    verified       0.75      0.46      0.57      4476\n",
      "not_verified       0.61      0.84      0.71      4466\n",
      "\n",
      "    accuracy                           0.65      8942\n",
      "   macro avg       0.68      0.65      0.64      8942\n",
      "weighted avg       0.68      0.65      0.64      8942\n",
      "\n"
     ]
    }
   ],
   "source": [
    "target_labels =['verified','not_verified']\n",
    "print(classification_report(y_test_final , y_pred , target_names = target_labels))"
   ]
  },
  {
   "cell_type": "code",
   "execution_count": null,
   "id": "31d5e365",
   "metadata": {
    "papermill": {
     "duration": 0.04333,
     "end_time": "2023-09-03T15:28:05.529681",
     "exception": false,
     "start_time": "2023-09-03T15:28:05.486351",
     "status": "completed"
    },
    "tags": []
   },
   "outputs": [],
   "source": []
  }
 ],
 "kernelspec": {
  "display_name": "Python 3",
  "language": "python",
  "name": "python3"
 },
 "language_info": {
  "codemirror_mode": {
   "name": "ipython",
   "version": 3
  },
  "file_extension": ".py",
  "mimetype": "text/x-python",
  "name": "python",
  "nbconvert_exporter": "python",
  "pygments_lexer": "ipython3",
  "version": "3.6.4"
 },
 "metadata": {
  "kernelspec": {
   "display_name": "Python 3",
   "language": "python",
   "name": "python3"
  },
  "language_info": {
   "codemirror_mode": {
    "name": "ipython",
    "version": 3
   },
   "file_extension": ".py",
   "mimetype": "text/x-python",
   "name": "python",
   "nbconvert_exporter": "python",
   "pygments_lexer": "ipython3",
   "version": "3.10.12"
  },
  "papermill": {
   "default_parameters": {},
   "duration": 27.471141,
   "end_time": "2023-09-03T15:28:06.602601",
   "environment_variables": {},
   "exception": null,
   "input_path": "__notebook__.ipynb",
   "output_path": "__notebook__.ipynb",
   "parameters": {},
   "start_time": "2023-09-03T15:27:39.131460",
   "version": "2.4.0"
  }
 },
 "nbformat": 4,
 "nbformat_minor": 5
}
